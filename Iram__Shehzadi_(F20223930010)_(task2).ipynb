{
  "cells": [
    {
      "cell_type": "markdown",
      "metadata": {
        "id": "P1QhyRtIIvul"
      },
      "source": [
        "# Data Science QUESTION 2\n",
        "\n",
        "  \n",
        "You'll be asked to do some analysis and modeling tasks on a dataset created.  \n",
        "The dataset concerns a video gaming company that has information on its customers and would like to gain more insights on what drives their customers to play for longer hours.  \n",
        "\n",
        "The following tables are provided:"
      ],
      "id": "P1QhyRtIIvul"
    },
    {
      "cell_type": "code",
      "source": [
        "from google.colab import drive\n",
        "drive.mount('/content/drive')"
      ],
      "metadata": {
        "colab": {
          "base_uri": "https://localhost:8080/"
        },
        "id": "9FUYawr7J3Kn",
        "outputId": "6929ff7e-da7d-408e-d62b-4fa5eb1f7fcb"
      },
      "id": "9FUYawr7J3Kn",
      "execution_count": 3,
      "outputs": [
        {
          "output_type": "stream",
          "name": "stdout",
          "text": [
            "Drive already mounted at /content/drive; to attempt to forcibly remount, call drive.mount(\"/content/drive\", force_remount=True).\n"
          ]
        }
      ]
    },
    {
      "cell_type": "code",
      "execution_count": 4,
      "metadata": {
        "id": "TuJnbcDBIvus"
      },
      "outputs": [],
      "source": [
        "import pandas as pd"
      ],
      "id": "TuJnbcDBIvus"
    },
    {
      "cell_type": "code",
      "execution_count": 5,
      "metadata": {
        "id": "40YmR5NpIvuu"
      },
      "outputs": [],
      "source": [
        "df_districts_house_prices = pd.read_csv(\"/content/drive/MyDrive/Mid term'/df_districts_house_prices.csv\")\n",
        "df_person_district = pd.read_csv(\"/content/drive/MyDrive/Mid term'/df_person_district.csv\")\n",
        "df_person_data = pd.read_csv(\"/content/drive/MyDrive/Mid term'/df_person_data.csv\")"
      ],
      "id": "40YmR5NpIvuu"
    },
    {
      "cell_type": "markdown",
      "metadata": {
        "id": "8ZGecItkIvuv"
      },
      "source": [
        "df_person_district\n",
        "\n",
        "includes information about each customer (person) and the district they live in\n",
        "\n",
        "- person_id: the person id\n",
        "- district: the name of the district"
      ],
      "id": "8ZGecItkIvuv"
    },
    {
      "cell_type": "code",
      "execution_count": 6,
      "metadata": {
        "colab": {
          "base_uri": "https://localhost:8080/",
          "height": 423
        },
        "id": "DUBJE9xbIvuv",
        "outputId": "ee96e43d-c015-450a-9245-024a0d57cb6b"
      },
      "outputs": [
        {
          "output_type": "execute_result",
          "data": {
            "text/plain": [
              "                                  person_id      district\n",
              "0      50c4c7e2-89a6-440b-a8e3-c44aa2c6150e   Metdunstone\n",
              "1      16f3bafb-9556-434e-adab-cb02f41fe32a  Tashnerspool\n",
              "2      0fa17eee-7214-4609-97fe-dd3093601800  Tashnerspool\n",
              "3      8db4ca66-dfb2-43f2-9c22-aa861dd0d218         Ulven\n",
              "4      51fed64a-375e-417f-94e4-4d27c368ea44     Red Onvey\n",
              "...                                     ...           ...\n",
              "69995  8cbea1e2-3257-4db5-ae59-84faa48cfde2     Bluffssel\n",
              "69996  e099ace5-a760-4362-a9ea-ae8cee590b86   Highnantmar\n",
              "69997  e9b0604e-ec84-4704-8e75-eabfd59ac4fb  Tashnerspool\n",
              "69998  e20f8ec5-0ddf-4674-ac1f-d6280b6640ab   Highnantmar\n",
              "69999  4d86ea85-2eaf-457a-bdba-73ff21830588    San Readma\n",
              "\n",
              "[70000 rows x 2 columns]"
            ],
            "text/html": [
              "\n",
              "  <div id=\"df-7eefd8da-cff1-4252-a24a-6d400b247651\">\n",
              "    <div class=\"colab-df-container\">\n",
              "      <div>\n",
              "<style scoped>\n",
              "    .dataframe tbody tr th:only-of-type {\n",
              "        vertical-align: middle;\n",
              "    }\n",
              "\n",
              "    .dataframe tbody tr th {\n",
              "        vertical-align: top;\n",
              "    }\n",
              "\n",
              "    .dataframe thead th {\n",
              "        text-align: right;\n",
              "    }\n",
              "</style>\n",
              "<table border=\"1\" class=\"dataframe\">\n",
              "  <thead>\n",
              "    <tr style=\"text-align: right;\">\n",
              "      <th></th>\n",
              "      <th>person_id</th>\n",
              "      <th>district</th>\n",
              "    </tr>\n",
              "  </thead>\n",
              "  <tbody>\n",
              "    <tr>\n",
              "      <th>0</th>\n",
              "      <td>50c4c7e2-89a6-440b-a8e3-c44aa2c6150e</td>\n",
              "      <td>Metdunstone</td>\n",
              "    </tr>\n",
              "    <tr>\n",
              "      <th>1</th>\n",
              "      <td>16f3bafb-9556-434e-adab-cb02f41fe32a</td>\n",
              "      <td>Tashnerspool</td>\n",
              "    </tr>\n",
              "    <tr>\n",
              "      <th>2</th>\n",
              "      <td>0fa17eee-7214-4609-97fe-dd3093601800</td>\n",
              "      <td>Tashnerspool</td>\n",
              "    </tr>\n",
              "    <tr>\n",
              "      <th>3</th>\n",
              "      <td>8db4ca66-dfb2-43f2-9c22-aa861dd0d218</td>\n",
              "      <td>Ulven</td>\n",
              "    </tr>\n",
              "    <tr>\n",
              "      <th>4</th>\n",
              "      <td>51fed64a-375e-417f-94e4-4d27c368ea44</td>\n",
              "      <td>Red Onvey</td>\n",
              "    </tr>\n",
              "    <tr>\n",
              "      <th>...</th>\n",
              "      <td>...</td>\n",
              "      <td>...</td>\n",
              "    </tr>\n",
              "    <tr>\n",
              "      <th>69995</th>\n",
              "      <td>8cbea1e2-3257-4db5-ae59-84faa48cfde2</td>\n",
              "      <td>Bluffssel</td>\n",
              "    </tr>\n",
              "    <tr>\n",
              "      <th>69996</th>\n",
              "      <td>e099ace5-a760-4362-a9ea-ae8cee590b86</td>\n",
              "      <td>Highnantmar</td>\n",
              "    </tr>\n",
              "    <tr>\n",
              "      <th>69997</th>\n",
              "      <td>e9b0604e-ec84-4704-8e75-eabfd59ac4fb</td>\n",
              "      <td>Tashnerspool</td>\n",
              "    </tr>\n",
              "    <tr>\n",
              "      <th>69998</th>\n",
              "      <td>e20f8ec5-0ddf-4674-ac1f-d6280b6640ab</td>\n",
              "      <td>Highnantmar</td>\n",
              "    </tr>\n",
              "    <tr>\n",
              "      <th>69999</th>\n",
              "      <td>4d86ea85-2eaf-457a-bdba-73ff21830588</td>\n",
              "      <td>San Readma</td>\n",
              "    </tr>\n",
              "  </tbody>\n",
              "</table>\n",
              "<p>70000 rows × 2 columns</p>\n",
              "</div>\n",
              "      <button class=\"colab-df-convert\" onclick=\"convertToInteractive('df-7eefd8da-cff1-4252-a24a-6d400b247651')\"\n",
              "              title=\"Convert this dataframe to an interactive table.\"\n",
              "              style=\"display:none;\">\n",
              "        \n",
              "  <svg xmlns=\"http://www.w3.org/2000/svg\" height=\"24px\"viewBox=\"0 0 24 24\"\n",
              "       width=\"24px\">\n",
              "    <path d=\"M0 0h24v24H0V0z\" fill=\"none\"/>\n",
              "    <path d=\"M18.56 5.44l.94 2.06.94-2.06 2.06-.94-2.06-.94-.94-2.06-.94 2.06-2.06.94zm-11 1L8.5 8.5l.94-2.06 2.06-.94-2.06-.94L8.5 2.5l-.94 2.06-2.06.94zm10 10l.94 2.06.94-2.06 2.06-.94-2.06-.94-.94-2.06-.94 2.06-2.06.94z\"/><path d=\"M17.41 7.96l-1.37-1.37c-.4-.4-.92-.59-1.43-.59-.52 0-1.04.2-1.43.59L10.3 9.45l-7.72 7.72c-.78.78-.78 2.05 0 2.83L4 21.41c.39.39.9.59 1.41.59.51 0 1.02-.2 1.41-.59l7.78-7.78 2.81-2.81c.8-.78.8-2.07 0-2.86zM5.41 20L4 18.59l7.72-7.72 1.47 1.35L5.41 20z\"/>\n",
              "  </svg>\n",
              "      </button>\n",
              "      \n",
              "  <style>\n",
              "    .colab-df-container {\n",
              "      display:flex;\n",
              "      flex-wrap:wrap;\n",
              "      gap: 12px;\n",
              "    }\n",
              "\n",
              "    .colab-df-convert {\n",
              "      background-color: #E8F0FE;\n",
              "      border: none;\n",
              "      border-radius: 50%;\n",
              "      cursor: pointer;\n",
              "      display: none;\n",
              "      fill: #1967D2;\n",
              "      height: 32px;\n",
              "      padding: 0 0 0 0;\n",
              "      width: 32px;\n",
              "    }\n",
              "\n",
              "    .colab-df-convert:hover {\n",
              "      background-color: #E2EBFA;\n",
              "      box-shadow: 0px 1px 2px rgba(60, 64, 67, 0.3), 0px 1px 3px 1px rgba(60, 64, 67, 0.15);\n",
              "      fill: #174EA6;\n",
              "    }\n",
              "\n",
              "    [theme=dark] .colab-df-convert {\n",
              "      background-color: #3B4455;\n",
              "      fill: #D2E3FC;\n",
              "    }\n",
              "\n",
              "    [theme=dark] .colab-df-convert:hover {\n",
              "      background-color: #434B5C;\n",
              "      box-shadow: 0px 1px 3px 1px rgba(0, 0, 0, 0.15);\n",
              "      filter: drop-shadow(0px 1px 2px rgba(0, 0, 0, 0.3));\n",
              "      fill: #FFFFFF;\n",
              "    }\n",
              "  </style>\n",
              "\n",
              "      <script>\n",
              "        const buttonEl =\n",
              "          document.querySelector('#df-7eefd8da-cff1-4252-a24a-6d400b247651 button.colab-df-convert');\n",
              "        buttonEl.style.display =\n",
              "          google.colab.kernel.accessAllowed ? 'block' : 'none';\n",
              "\n",
              "        async function convertToInteractive(key) {\n",
              "          const element = document.querySelector('#df-7eefd8da-cff1-4252-a24a-6d400b247651');\n",
              "          const dataTable =\n",
              "            await google.colab.kernel.invokeFunction('convertToInteractive',\n",
              "                                                     [key], {});\n",
              "          if (!dataTable) return;\n",
              "\n",
              "          const docLinkHtml = 'Like what you see? Visit the ' +\n",
              "            '<a target=\"_blank\" href=https://colab.research.google.com/notebooks/data_table.ipynb>data table notebook</a>'\n",
              "            + ' to learn more about interactive tables.';\n",
              "          element.innerHTML = '';\n",
              "          dataTable['output_type'] = 'display_data';\n",
              "          await google.colab.output.renderOutput(dataTable, element);\n",
              "          const docLink = document.createElement('div');\n",
              "          docLink.innerHTML = docLinkHtml;\n",
              "          element.appendChild(docLink);\n",
              "        }\n",
              "      </script>\n",
              "    </div>\n",
              "  </div>\n",
              "  "
            ]
          },
          "metadata": {},
          "execution_count": 6
        }
      ],
      "source": [
        "df_person_district"
      ],
      "id": "DUBJE9xbIvuv"
    },
    {
      "cell_type": "markdown",
      "metadata": {
        "id": "KsKyytQwIvuw"
      },
      "source": [
        "df_districts_house_prices\n",
        "\n",
        "includes information about each district and the prices of the houses in the district\n",
        "\n",
        "- district: the name of the district\n",
        "- house_price: the price of the house\n",
        "- house_number: the house number in the district"
      ],
      "id": "KsKyytQwIvuw"
    },
    {
      "cell_type": "code",
      "execution_count": 7,
      "metadata": {
        "colab": {
          "base_uri": "https://localhost:8080/",
          "height": 423
        },
        "id": "HdCNQvngIvux",
        "outputId": "25e02e22-a986-4cf9-e401-b3822b568fe2"
      },
      "outputs": [
        {
          "output_type": "execute_result",
          "data": {
            "text/plain": [
              "        district  house_price  house_number\n",
              "0      Celowsgan     160652.0             1\n",
              "1      Celowsgan     159219.0             2\n",
              "2      Celowsgan     161543.0             3\n",
              "3      Celowsgan     158944.0             4\n",
              "4      Celowsgan     164121.0             5\n",
              "...          ...          ...           ...\n",
              "1358  El Willong     932441.0            30\n",
              "1359  El Willong     890190.0            31\n",
              "1360  El Willong     892096.0            32\n",
              "1361  El Willong     935117.0            33\n",
              "1362  El Willong     953480.0            34\n",
              "\n",
              "[1363 rows x 3 columns]"
            ],
            "text/html": [
              "\n",
              "  <div id=\"df-dd9d45b6-4ae1-48e4-af7f-258efd0092e0\">\n",
              "    <div class=\"colab-df-container\">\n",
              "      <div>\n",
              "<style scoped>\n",
              "    .dataframe tbody tr th:only-of-type {\n",
              "        vertical-align: middle;\n",
              "    }\n",
              "\n",
              "    .dataframe tbody tr th {\n",
              "        vertical-align: top;\n",
              "    }\n",
              "\n",
              "    .dataframe thead th {\n",
              "        text-align: right;\n",
              "    }\n",
              "</style>\n",
              "<table border=\"1\" class=\"dataframe\">\n",
              "  <thead>\n",
              "    <tr style=\"text-align: right;\">\n",
              "      <th></th>\n",
              "      <th>district</th>\n",
              "      <th>house_price</th>\n",
              "      <th>house_number</th>\n",
              "    </tr>\n",
              "  </thead>\n",
              "  <tbody>\n",
              "    <tr>\n",
              "      <th>0</th>\n",
              "      <td>Celowsgan</td>\n",
              "      <td>160652.0</td>\n",
              "      <td>1</td>\n",
              "    </tr>\n",
              "    <tr>\n",
              "      <th>1</th>\n",
              "      <td>Celowsgan</td>\n",
              "      <td>159219.0</td>\n",
              "      <td>2</td>\n",
              "    </tr>\n",
              "    <tr>\n",
              "      <th>2</th>\n",
              "      <td>Celowsgan</td>\n",
              "      <td>161543.0</td>\n",
              "      <td>3</td>\n",
              "    </tr>\n",
              "    <tr>\n",
              "      <th>3</th>\n",
              "      <td>Celowsgan</td>\n",
              "      <td>158944.0</td>\n",
              "      <td>4</td>\n",
              "    </tr>\n",
              "    <tr>\n",
              "      <th>4</th>\n",
              "      <td>Celowsgan</td>\n",
              "      <td>164121.0</td>\n",
              "      <td>5</td>\n",
              "    </tr>\n",
              "    <tr>\n",
              "      <th>...</th>\n",
              "      <td>...</td>\n",
              "      <td>...</td>\n",
              "      <td>...</td>\n",
              "    </tr>\n",
              "    <tr>\n",
              "      <th>1358</th>\n",
              "      <td>El Willong</td>\n",
              "      <td>932441.0</td>\n",
              "      <td>30</td>\n",
              "    </tr>\n",
              "    <tr>\n",
              "      <th>1359</th>\n",
              "      <td>El Willong</td>\n",
              "      <td>890190.0</td>\n",
              "      <td>31</td>\n",
              "    </tr>\n",
              "    <tr>\n",
              "      <th>1360</th>\n",
              "      <td>El Willong</td>\n",
              "      <td>892096.0</td>\n",
              "      <td>32</td>\n",
              "    </tr>\n",
              "    <tr>\n",
              "      <th>1361</th>\n",
              "      <td>El Willong</td>\n",
              "      <td>935117.0</td>\n",
              "      <td>33</td>\n",
              "    </tr>\n",
              "    <tr>\n",
              "      <th>1362</th>\n",
              "      <td>El Willong</td>\n",
              "      <td>953480.0</td>\n",
              "      <td>34</td>\n",
              "    </tr>\n",
              "  </tbody>\n",
              "</table>\n",
              "<p>1363 rows × 3 columns</p>\n",
              "</div>\n",
              "      <button class=\"colab-df-convert\" onclick=\"convertToInteractive('df-dd9d45b6-4ae1-48e4-af7f-258efd0092e0')\"\n",
              "              title=\"Convert this dataframe to an interactive table.\"\n",
              "              style=\"display:none;\">\n",
              "        \n",
              "  <svg xmlns=\"http://www.w3.org/2000/svg\" height=\"24px\"viewBox=\"0 0 24 24\"\n",
              "       width=\"24px\">\n",
              "    <path d=\"M0 0h24v24H0V0z\" fill=\"none\"/>\n",
              "    <path d=\"M18.56 5.44l.94 2.06.94-2.06 2.06-.94-2.06-.94-.94-2.06-.94 2.06-2.06.94zm-11 1L8.5 8.5l.94-2.06 2.06-.94-2.06-.94L8.5 2.5l-.94 2.06-2.06.94zm10 10l.94 2.06.94-2.06 2.06-.94-2.06-.94-.94-2.06-.94 2.06-2.06.94z\"/><path d=\"M17.41 7.96l-1.37-1.37c-.4-.4-.92-.59-1.43-.59-.52 0-1.04.2-1.43.59L10.3 9.45l-7.72 7.72c-.78.78-.78 2.05 0 2.83L4 21.41c.39.39.9.59 1.41.59.51 0 1.02-.2 1.41-.59l7.78-7.78 2.81-2.81c.8-.78.8-2.07 0-2.86zM5.41 20L4 18.59l7.72-7.72 1.47 1.35L5.41 20z\"/>\n",
              "  </svg>\n",
              "      </button>\n",
              "      \n",
              "  <style>\n",
              "    .colab-df-container {\n",
              "      display:flex;\n",
              "      flex-wrap:wrap;\n",
              "      gap: 12px;\n",
              "    }\n",
              "\n",
              "    .colab-df-convert {\n",
              "      background-color: #E8F0FE;\n",
              "      border: none;\n",
              "      border-radius: 50%;\n",
              "      cursor: pointer;\n",
              "      display: none;\n",
              "      fill: #1967D2;\n",
              "      height: 32px;\n",
              "      padding: 0 0 0 0;\n",
              "      width: 32px;\n",
              "    }\n",
              "\n",
              "    .colab-df-convert:hover {\n",
              "      background-color: #E2EBFA;\n",
              "      box-shadow: 0px 1px 2px rgba(60, 64, 67, 0.3), 0px 1px 3px 1px rgba(60, 64, 67, 0.15);\n",
              "      fill: #174EA6;\n",
              "    }\n",
              "\n",
              "    [theme=dark] .colab-df-convert {\n",
              "      background-color: #3B4455;\n",
              "      fill: #D2E3FC;\n",
              "    }\n",
              "\n",
              "    [theme=dark] .colab-df-convert:hover {\n",
              "      background-color: #434B5C;\n",
              "      box-shadow: 0px 1px 3px 1px rgba(0, 0, 0, 0.15);\n",
              "      filter: drop-shadow(0px 1px 2px rgba(0, 0, 0, 0.3));\n",
              "      fill: #FFFFFF;\n",
              "    }\n",
              "  </style>\n",
              "\n",
              "      <script>\n",
              "        const buttonEl =\n",
              "          document.querySelector('#df-dd9d45b6-4ae1-48e4-af7f-258efd0092e0 button.colab-df-convert');\n",
              "        buttonEl.style.display =\n",
              "          google.colab.kernel.accessAllowed ? 'block' : 'none';\n",
              "\n",
              "        async function convertToInteractive(key) {\n",
              "          const element = document.querySelector('#df-dd9d45b6-4ae1-48e4-af7f-258efd0092e0');\n",
              "          const dataTable =\n",
              "            await google.colab.kernel.invokeFunction('convertToInteractive',\n",
              "                                                     [key], {});\n",
              "          if (!dataTable) return;\n",
              "\n",
              "          const docLinkHtml = 'Like what you see? Visit the ' +\n",
              "            '<a target=\"_blank\" href=https://colab.research.google.com/notebooks/data_table.ipynb>data table notebook</a>'\n",
              "            + ' to learn more about interactive tables.';\n",
              "          element.innerHTML = '';\n",
              "          dataTable['output_type'] = 'display_data';\n",
              "          await google.colab.output.renderOutput(dataTable, element);\n",
              "          const docLink = document.createElement('div');\n",
              "          docLink.innerHTML = docLinkHtml;\n",
              "          element.appendChild(docLink);\n",
              "        }\n",
              "      </script>\n",
              "    </div>\n",
              "  </div>\n",
              "  "
            ]
          },
          "metadata": {},
          "execution_count": 7
        }
      ],
      "source": [
        "df_districts_house_prices"
      ],
      "id": "HdCNQvngIvux"
    },
    {
      "cell_type": "markdown",
      "metadata": {
        "id": "idL7V2_rIvux"
      },
      "source": [
        "df_person_data\n",
        "\n",
        "includes personal information about each of the customers and relevant information to their video gaming habits\n",
        "\n",
        "- person_id: identifier for a person\n",
        "- age: the age of the person\n",
        "- n_kids: the number of kids this person has\n",
        "- n_vg: the number of video games the person owns\n",
        "- n_con: the number of video game consols the person owns\n",
        "- n_presub: the number of premium subscription the person owns\n",
        "- n_hours_playing: the total number of hours this person play per month "
      ],
      "id": "idL7V2_rIvux"
    },
    {
      "cell_type": "code",
      "execution_count": 8,
      "metadata": {
        "colab": {
          "base_uri": "https://localhost:8080/",
          "height": 423
        },
        "id": "HmuaeHH4Ivuy",
        "outputId": "d6d16ce0-f9df-4017-98ab-315206c97008"
      },
      "outputs": [
        {
          "output_type": "execute_result",
          "data": {
            "text/plain": [
              "                                  person_id   age  n_kids  n_vg  n_con  \\\n",
              "0      50c4c7e2-89a6-440b-a8e3-c44aa2c6150e  14.0       0     0      0   \n",
              "1      16f3bafb-9556-434e-adab-cb02f41fe32a  18.0       0     2      0   \n",
              "2      0fa17eee-7214-4609-97fe-dd3093601800  28.0       0     3      0   \n",
              "3      8db4ca66-dfb2-43f2-9c22-aa861dd0d218  20.0       1    72      0   \n",
              "4      51fed64a-375e-417f-94e4-4d27c368ea44  32.0       1    58      1   \n",
              "...                                     ...   ...     ...   ...    ...   \n",
              "69995  8cbea1e2-3257-4db5-ae59-84faa48cfde2  32.0       4    62      1   \n",
              "69996  e099ace5-a760-4362-a9ea-ae8cee590b86  36.0       0    53      1   \n",
              "69997  e9b0604e-ec84-4704-8e75-eabfd59ac4fb  19.0       0     1      1   \n",
              "69998  e20f8ec5-0ddf-4674-ac1f-d6280b6640ab  31.0       2    49      3   \n",
              "69999  4d86ea85-2eaf-457a-bdba-73ff21830588  20.0       0     3      0   \n",
              "\n",
              "       n_presub  n_hours_playing  \n",
              "0             0        18.422745  \n",
              "1             0        20.693273  \n",
              "2             0        22.412490  \n",
              "3             0       299.187025  \n",
              "4             3        20.367141  \n",
              "...         ...              ...  \n",
              "69995         2        21.378288  \n",
              "69996         1         3.707476  \n",
              "69997         0        23.809075  \n",
              "69998         2        15.708397  \n",
              "69999         2        30.796314  \n",
              "\n",
              "[70000 rows x 7 columns]"
            ],
            "text/html": [
              "\n",
              "  <div id=\"df-ee411ba4-cdca-474e-9b8f-d9850f500ae6\">\n",
              "    <div class=\"colab-df-container\">\n",
              "      <div>\n",
              "<style scoped>\n",
              "    .dataframe tbody tr th:only-of-type {\n",
              "        vertical-align: middle;\n",
              "    }\n",
              "\n",
              "    .dataframe tbody tr th {\n",
              "        vertical-align: top;\n",
              "    }\n",
              "\n",
              "    .dataframe thead th {\n",
              "        text-align: right;\n",
              "    }\n",
              "</style>\n",
              "<table border=\"1\" class=\"dataframe\">\n",
              "  <thead>\n",
              "    <tr style=\"text-align: right;\">\n",
              "      <th></th>\n",
              "      <th>person_id</th>\n",
              "      <th>age</th>\n",
              "      <th>n_kids</th>\n",
              "      <th>n_vg</th>\n",
              "      <th>n_con</th>\n",
              "      <th>n_presub</th>\n",
              "      <th>n_hours_playing</th>\n",
              "    </tr>\n",
              "  </thead>\n",
              "  <tbody>\n",
              "    <tr>\n",
              "      <th>0</th>\n",
              "      <td>50c4c7e2-89a6-440b-a8e3-c44aa2c6150e</td>\n",
              "      <td>14.0</td>\n",
              "      <td>0</td>\n",
              "      <td>0</td>\n",
              "      <td>0</td>\n",
              "      <td>0</td>\n",
              "      <td>18.422745</td>\n",
              "    </tr>\n",
              "    <tr>\n",
              "      <th>1</th>\n",
              "      <td>16f3bafb-9556-434e-adab-cb02f41fe32a</td>\n",
              "      <td>18.0</td>\n",
              "      <td>0</td>\n",
              "      <td>2</td>\n",
              "      <td>0</td>\n",
              "      <td>0</td>\n",
              "      <td>20.693273</td>\n",
              "    </tr>\n",
              "    <tr>\n",
              "      <th>2</th>\n",
              "      <td>0fa17eee-7214-4609-97fe-dd3093601800</td>\n",
              "      <td>28.0</td>\n",
              "      <td>0</td>\n",
              "      <td>3</td>\n",
              "      <td>0</td>\n",
              "      <td>0</td>\n",
              "      <td>22.412490</td>\n",
              "    </tr>\n",
              "    <tr>\n",
              "      <th>3</th>\n",
              "      <td>8db4ca66-dfb2-43f2-9c22-aa861dd0d218</td>\n",
              "      <td>20.0</td>\n",
              "      <td>1</td>\n",
              "      <td>72</td>\n",
              "      <td>0</td>\n",
              "      <td>0</td>\n",
              "      <td>299.187025</td>\n",
              "    </tr>\n",
              "    <tr>\n",
              "      <th>4</th>\n",
              "      <td>51fed64a-375e-417f-94e4-4d27c368ea44</td>\n",
              "      <td>32.0</td>\n",
              "      <td>1</td>\n",
              "      <td>58</td>\n",
              "      <td>1</td>\n",
              "      <td>3</td>\n",
              "      <td>20.367141</td>\n",
              "    </tr>\n",
              "    <tr>\n",
              "      <th>...</th>\n",
              "      <td>...</td>\n",
              "      <td>...</td>\n",
              "      <td>...</td>\n",
              "      <td>...</td>\n",
              "      <td>...</td>\n",
              "      <td>...</td>\n",
              "      <td>...</td>\n",
              "    </tr>\n",
              "    <tr>\n",
              "      <th>69995</th>\n",
              "      <td>8cbea1e2-3257-4db5-ae59-84faa48cfde2</td>\n",
              "      <td>32.0</td>\n",
              "      <td>4</td>\n",
              "      <td>62</td>\n",
              "      <td>1</td>\n",
              "      <td>2</td>\n",
              "      <td>21.378288</td>\n",
              "    </tr>\n",
              "    <tr>\n",
              "      <th>69996</th>\n",
              "      <td>e099ace5-a760-4362-a9ea-ae8cee590b86</td>\n",
              "      <td>36.0</td>\n",
              "      <td>0</td>\n",
              "      <td>53</td>\n",
              "      <td>1</td>\n",
              "      <td>1</td>\n",
              "      <td>3.707476</td>\n",
              "    </tr>\n",
              "    <tr>\n",
              "      <th>69997</th>\n",
              "      <td>e9b0604e-ec84-4704-8e75-eabfd59ac4fb</td>\n",
              "      <td>19.0</td>\n",
              "      <td>0</td>\n",
              "      <td>1</td>\n",
              "      <td>1</td>\n",
              "      <td>0</td>\n",
              "      <td>23.809075</td>\n",
              "    </tr>\n",
              "    <tr>\n",
              "      <th>69998</th>\n",
              "      <td>e20f8ec5-0ddf-4674-ac1f-d6280b6640ab</td>\n",
              "      <td>31.0</td>\n",
              "      <td>2</td>\n",
              "      <td>49</td>\n",
              "      <td>3</td>\n",
              "      <td>2</td>\n",
              "      <td>15.708397</td>\n",
              "    </tr>\n",
              "    <tr>\n",
              "      <th>69999</th>\n",
              "      <td>4d86ea85-2eaf-457a-bdba-73ff21830588</td>\n",
              "      <td>20.0</td>\n",
              "      <td>0</td>\n",
              "      <td>3</td>\n",
              "      <td>0</td>\n",
              "      <td>2</td>\n",
              "      <td>30.796314</td>\n",
              "    </tr>\n",
              "  </tbody>\n",
              "</table>\n",
              "<p>70000 rows × 7 columns</p>\n",
              "</div>\n",
              "      <button class=\"colab-df-convert\" onclick=\"convertToInteractive('df-ee411ba4-cdca-474e-9b8f-d9850f500ae6')\"\n",
              "              title=\"Convert this dataframe to an interactive table.\"\n",
              "              style=\"display:none;\">\n",
              "        \n",
              "  <svg xmlns=\"http://www.w3.org/2000/svg\" height=\"24px\"viewBox=\"0 0 24 24\"\n",
              "       width=\"24px\">\n",
              "    <path d=\"M0 0h24v24H0V0z\" fill=\"none\"/>\n",
              "    <path d=\"M18.56 5.44l.94 2.06.94-2.06 2.06-.94-2.06-.94-.94-2.06-.94 2.06-2.06.94zm-11 1L8.5 8.5l.94-2.06 2.06-.94-2.06-.94L8.5 2.5l-.94 2.06-2.06.94zm10 10l.94 2.06.94-2.06 2.06-.94-2.06-.94-.94-2.06-.94 2.06-2.06.94z\"/><path d=\"M17.41 7.96l-1.37-1.37c-.4-.4-.92-.59-1.43-.59-.52 0-1.04.2-1.43.59L10.3 9.45l-7.72 7.72c-.78.78-.78 2.05 0 2.83L4 21.41c.39.39.9.59 1.41.59.51 0 1.02-.2 1.41-.59l7.78-7.78 2.81-2.81c.8-.78.8-2.07 0-2.86zM5.41 20L4 18.59l7.72-7.72 1.47 1.35L5.41 20z\"/>\n",
              "  </svg>\n",
              "      </button>\n",
              "      \n",
              "  <style>\n",
              "    .colab-df-container {\n",
              "      display:flex;\n",
              "      flex-wrap:wrap;\n",
              "      gap: 12px;\n",
              "    }\n",
              "\n",
              "    .colab-df-convert {\n",
              "      background-color: #E8F0FE;\n",
              "      border: none;\n",
              "      border-radius: 50%;\n",
              "      cursor: pointer;\n",
              "      display: none;\n",
              "      fill: #1967D2;\n",
              "      height: 32px;\n",
              "      padding: 0 0 0 0;\n",
              "      width: 32px;\n",
              "    }\n",
              "\n",
              "    .colab-df-convert:hover {\n",
              "      background-color: #E2EBFA;\n",
              "      box-shadow: 0px 1px 2px rgba(60, 64, 67, 0.3), 0px 1px 3px 1px rgba(60, 64, 67, 0.15);\n",
              "      fill: #174EA6;\n",
              "    }\n",
              "\n",
              "    [theme=dark] .colab-df-convert {\n",
              "      background-color: #3B4455;\n",
              "      fill: #D2E3FC;\n",
              "    }\n",
              "\n",
              "    [theme=dark] .colab-df-convert:hover {\n",
              "      background-color: #434B5C;\n",
              "      box-shadow: 0px 1px 3px 1px rgba(0, 0, 0, 0.15);\n",
              "      filter: drop-shadow(0px 1px 2px rgba(0, 0, 0, 0.3));\n",
              "      fill: #FFFFFF;\n",
              "    }\n",
              "  </style>\n",
              "\n",
              "      <script>\n",
              "        const buttonEl =\n",
              "          document.querySelector('#df-ee411ba4-cdca-474e-9b8f-d9850f500ae6 button.colab-df-convert');\n",
              "        buttonEl.style.display =\n",
              "          google.colab.kernel.accessAllowed ? 'block' : 'none';\n",
              "\n",
              "        async function convertToInteractive(key) {\n",
              "          const element = document.querySelector('#df-ee411ba4-cdca-474e-9b8f-d9850f500ae6');\n",
              "          const dataTable =\n",
              "            await google.colab.kernel.invokeFunction('convertToInteractive',\n",
              "                                                     [key], {});\n",
              "          if (!dataTable) return;\n",
              "\n",
              "          const docLinkHtml = 'Like what you see? Visit the ' +\n",
              "            '<a target=\"_blank\" href=https://colab.research.google.com/notebooks/data_table.ipynb>data table notebook</a>'\n",
              "            + ' to learn more about interactive tables.';\n",
              "          element.innerHTML = '';\n",
              "          dataTable['output_type'] = 'display_data';\n",
              "          await google.colab.output.renderOutput(dataTable, element);\n",
              "          const docLink = document.createElement('div');\n",
              "          docLink.innerHTML = docLinkHtml;\n",
              "          element.appendChild(docLink);\n",
              "        }\n",
              "      </script>\n",
              "    </div>\n",
              "  </div>\n",
              "  "
            ]
          },
          "metadata": {},
          "execution_count": 8
        }
      ],
      "source": [
        "df_person_data"
      ],
      "id": "HmuaeHH4Ivuy"
    },
    {
      "cell_type": "markdown",
      "metadata": {
        "id": "lDJqx1xFIvuz"
      },
      "source": [
        "## Quick EDA\n",
        "\n",
        "The goals of these questions is to evaluate your plotting, data mangling, and plot interpretation skills.   \n",
        "Use whatever libraries you are comfortable with.   \n",
        "Code clarity and cleanliness are also highly valuable.   "
      ],
      "id": "lDJqx1xFIvuz"
    },
    {
      "cell_type": "markdown",
      "metadata": {
        "id": "UdkhxBiGIvu0"
      },
      "source": [
        "### 1. Plot each district's house prices distribution with marking the mean by a vertical line\n"
      ],
      "id": "UdkhxBiGIvu0"
    },
    {
      "cell_type": "code",
      "execution_count": 9,
      "metadata": {
        "colab": {
          "base_uri": "https://localhost:8080/"
        },
        "id": "lk_rxQPcIvu1",
        "outputId": "c7882b4f-4a87-484b-dfbf-3a3f10e1c5e6"
      },
      "outputs": [
        {
          "output_type": "execute_result",
          "data": {
            "text/plain": [
              "491065.3446745562"
            ]
          },
          "metadata": {},
          "execution_count": 9
        }
      ],
      "source": [
        "from statistics import mean\n",
        "import matplotlib.pyplot as plt\n",
        "import numpy as np\n",
        "mean1 = df_districts_house_prices['house_price'].mean()\n",
        "mean1\n"
      ],
      "id": "lk_rxQPcIvu1"
    },
    {
      "cell_type": "code",
      "source": [
        "plt.axvline(np.mean(mean1), color='red')"
      ],
      "metadata": {
        "colab": {
          "base_uri": "https://localhost:8080/",
          "height": 452
        },
        "id": "LKL6jnUUPRpb",
        "outputId": "8b5e73dd-0be2-406b-edb7-fb06e31fdc50"
      },
      "id": "LKL6jnUUPRpb",
      "execution_count": 10,
      "outputs": [
        {
          "output_type": "execute_result",
          "data": {
            "text/plain": [
              "<matplotlib.lines.Line2D at 0x7fa03c7fc9d0>"
            ]
          },
          "metadata": {},
          "execution_count": 10
        },
        {
          "output_type": "display_data",
          "data": {
            "text/plain": [
              "<Figure size 640x480 with 1 Axes>"
            ],
            "image/png": "[encoded data removed]"
          },
          "metadata": {}
        }
      ]
    },
    {
      "cell_type": "markdown",
      "metadata": {
        "id": "WGXOes1zIvu1"
      },
      "source": [
        "### 2. Combine all of the three data sources into one table to use in further analysis. "
      ],
      "id": "WGXOes1zIvu1"
    },
    {
      "cell_type": "code",
      "source": [
        "import pandas as pd \n",
        "import glob \n",
        "\n",
        "path = '/content/drive/MyDrive/mid term dataset/'\n",
        "all_files = glob.glob(path + \"/*.csv\") # this is new\n",
        "\n",
        "li = []\n",
        "\n",
        "for filename in all_files:\n",
        "    df = pd.read_csv(filename, index_col=None, header=0)\n",
        "    li.append(df)\n",
        "\n",
        "frame = pd.concat(li, axis=0, ignore_index=True)"
      ],
      "metadata": {
        "id": "aQIsXHnUSZUO"
      },
      "id": "aQIsXHnUSZUO",
      "execution_count": 11,
      "outputs": []
    },
    {
      "cell_type": "code",
      "source": [
        "frame\n"
      ],
      "metadata": {
        "colab": {
          "base_uri": "https://localhost:8080/",
          "height": 423
        },
        "id": "wHFuxm0OVC77",
        "outputId": "35680cbc-eefd-45d4-a837-d8645e344bea"
      },
      "id": "wHFuxm0OVC77",
      "execution_count": 12,
      "outputs": [
        {
          "output_type": "execute_result",
          "data": {
            "text/plain": [
              "         district  house_price  house_number  \\\n",
              "0       Celowsgan     160652.0           1.0   \n",
              "1       Celowsgan     159219.0           2.0   \n",
              "2       Celowsgan     161543.0           3.0   \n",
              "3       Celowsgan     158944.0           4.0   \n",
              "4       Celowsgan     164121.0           5.0   \n",
              "...           ...          ...           ...   \n",
              "141358        NaN          NaN           NaN   \n",
              "141359        NaN          NaN           NaN   \n",
              "141360        NaN          NaN           NaN   \n",
              "141361        NaN          NaN           NaN   \n",
              "141362        NaN          NaN           NaN   \n",
              "\n",
              "                                   person_id   age  n_kids  n_vg  n_con  \\\n",
              "0                                        NaN   NaN     NaN   NaN    NaN   \n",
              "1                                        NaN   NaN     NaN   NaN    NaN   \n",
              "2                                        NaN   NaN     NaN   NaN    NaN   \n",
              "3                                        NaN   NaN     NaN   NaN    NaN   \n",
              "4                                        NaN   NaN     NaN   NaN    NaN   \n",
              "...                                      ...   ...     ...   ...    ...   \n",
              "141358  8cbea1e2-3257-4db5-ae59-84faa48cfde2  32.0     4.0  62.0    1.0   \n",
              "141359  e099ace5-a760-4362-a9ea-ae8cee590b86  36.0     0.0  53.0    1.0   \n",
              "141360  e9b0604e-ec84-4704-8e75-eabfd59ac4fb  19.0     0.0   1.0    1.0   \n",
              "141361  e20f8ec5-0ddf-4674-ac1f-d6280b6640ab  31.0     2.0  49.0    3.0   \n",
              "141362  4d86ea85-2eaf-457a-bdba-73ff21830588  20.0     0.0   3.0    0.0   \n",
              "\n",
              "        n_presub  n_hours_playing  \n",
              "0            NaN              NaN  \n",
              "1            NaN              NaN  \n",
              "2            NaN              NaN  \n",
              "3            NaN              NaN  \n",
              "4            NaN              NaN  \n",
              "...          ...              ...  \n",
              "141358       2.0        21.378288  \n",
              "141359       1.0         3.707476  \n",
              "141360       0.0        23.809075  \n",
              "141361       2.0        15.708397  \n",
              "141362       2.0        30.796314  \n",
              "\n",
              "[141363 rows x 10 columns]"
            ],
            "text/html": [
              "\n",
              "  <div id=\"df-f8d49c9d-21c9-4915-8f73-6871b818b9d3\">\n",
              "    <div class=\"colab-df-container\">\n",
              "      <div>\n",
              "<style scoped>\n",
              "    .dataframe tbody tr th:only-of-type {\n",
              "        vertical-align: middle;\n",
              "    }\n",
              "\n",
              "    .dataframe tbody tr th {\n",
              "        vertical-align: top;\n",
              "    }\n",
              "\n",
              "    .dataframe thead th {\n",
              "        text-align: right;\n",
              "    }\n",
              "</style>\n",
              "<table border=\"1\" class=\"dataframe\">\n",
              "  <thead>\n",
              "    <tr style=\"text-align: right;\">\n",
              "      <th></th>\n",
              "      <th>district</th>\n",
              "      <th>house_price</th>\n",
              "      <th>house_number</th>\n",
              "      <th>person_id</th>\n",
              "      <th>age</th>\n",
              "      <th>n_kids</th>\n",
              "      <th>n_vg</th>\n",
              "      <th>n_con</th>\n",
              "      <th>n_presub</th>\n",
              "      <th>n_hours_playing</th>\n",
              "    </tr>\n",
              "  </thead>\n",
              "  <tbody>\n",
              "    <tr>\n",
              "      <th>0</th>\n",
              "      <td>Celowsgan</td>\n",
              "      <td>160652.0</td>\n",
              "      <td>1.0</td>\n",
              "      <td>NaN</td>\n",
              "      <td>NaN</td>\n",
              "      <td>NaN</td>\n",
              "      <td>NaN</td>\n",
              "      <td>NaN</td>\n",
              "      <td>NaN</td>\n",
              "      <td>NaN</td>\n",
              "    </tr>\n",
              "    <tr>\n",
              "      <th>1</th>\n",
              "      <td>Celowsgan</td>\n",
              "      <td>159219.0</td>\n",
              "      <td>2.0</td>\n",
              "      <td>NaN</td>\n",
              "      <td>NaN</td>\n",
              "      <td>NaN</td>\n",
              "      <td>NaN</td>\n",
              "      <td>NaN</td>\n",
              "      <td>NaN</td>\n",
              "      <td>NaN</td>\n",
              "    </tr>\n",
              "    <tr>\n",
              "      <th>2</th>\n",
              "      <td>Celowsgan</td>\n",
              "      <td>161543.0</td>\n",
              "      <td>3.0</td>\n",
              "      <td>NaN</td>\n",
              "      <td>NaN</td>\n",
              "      <td>NaN</td>\n",
              "      <td>NaN</td>\n",
              "      <td>NaN</td>\n",
              "      <td>NaN</td>\n",
              "      <td>NaN</td>\n",
              "    </tr>\n",
              "    <tr>\n",
              "      <th>3</th>\n",
              "      <td>Celowsgan</td>\n",
              "      <td>158944.0</td>\n",
              "      <td>4.0</td>\n",
              "      <td>NaN</td>\n",
              "      <td>NaN</td>\n",
              "      <td>NaN</td>\n",
              "      <td>NaN</td>\n",
              "      <td>NaN</td>\n",
              "      <td>NaN</td>\n",
              "      <td>NaN</td>\n",
              "    </tr>\n",
              "    <tr>\n",
              "      <th>4</th>\n",
              "      <td>Celowsgan</td>\n",
              "      <td>164121.0</td>\n",
              "      <td>5.0</td>\n",
              "      <td>NaN</td>\n",
              "      <td>NaN</td>\n",
              "      <td>NaN</td>\n",
              "      <td>NaN</td>\n",
              "      <td>NaN</td>\n",
              "      <td>NaN</td>\n",
              "      <td>NaN</td>\n",
              "    </tr>\n",
              "    <tr>\n",
              "      <th>...</th>\n",
              "      <td>...</td>\n",
              "      <td>...</td>\n",
              "      <td>...</td>\n",
              "      <td>...</td>\n",
              "      <td>...</td>\n",
              "      <td>...</td>\n",
              "      <td>...</td>\n",
              "      <td>...</td>\n",
              "      <td>...</td>\n",
              "      <td>...</td>\n",
              "    </tr>\n",
              "    <tr>\n",
              "      <th>141358</th>\n",
              "      <td>NaN</td>\n",
              "      <td>NaN</td>\n",
              "      <td>NaN</td>\n",
              "      <td>8cbea1e2-3257-4db5-ae59-84faa48cfde2</td>\n",
              "      <td>32.0</td>\n",
              "      <td>4.0</td>\n",
              "      <td>62.0</td>\n",
              "      <td>1.0</td>\n",
              "      <td>2.0</td>\n",
              "      <td>21.378288</td>\n",
              "    </tr>\n",
              "    <tr>\n",
              "      <th>141359</th>\n",
              "      <td>NaN</td>\n",
              "      <td>NaN</td>\n",
              "      <td>NaN</td>\n",
              "      <td>e099ace5-a760-4362-a9ea-ae8cee590b86</td>\n",
              "      <td>36.0</td>\n",
              "      <td>0.0</td>\n",
              "      <td>53.0</td>\n",
              "      <td>1.0</td>\n",
              "      <td>1.0</td>\n",
              "      <td>3.707476</td>\n",
              "    </tr>\n",
              "    <tr>\n",
              "      <th>141360</th>\n",
              "      <td>NaN</td>\n",
              "      <td>NaN</td>\n",
              "      <td>NaN</td>\n",
              "      <td>e9b0604e-ec84-4704-8e75-eabfd59ac4fb</td>\n",
              "      <td>19.0</td>\n",
              "      <td>0.0</td>\n",
              "      <td>1.0</td>\n",
              "      <td>1.0</td>\n",
              "      <td>0.0</td>\n",
              "      <td>23.809075</td>\n",
              "    </tr>\n",
              "    <tr>\n",
              "      <th>141361</th>\n",
              "      <td>NaN</td>\n",
              "      <td>NaN</td>\n",
              "      <td>NaN</td>\n",
              "      <td>e20f8ec5-0ddf-4674-ac1f-d6280b6640ab</td>\n",
              "      <td>31.0</td>\n",
              "      <td>2.0</td>\n",
              "      <td>49.0</td>\n",
              "      <td>3.0</td>\n",
              "      <td>2.0</td>\n",
              "      <td>15.708397</td>\n",
              "    </tr>\n",
              "    <tr>\n",
              "      <th>141362</th>\n",
              "      <td>NaN</td>\n",
              "      <td>NaN</td>\n",
              "      <td>NaN</td>\n",
              "      <td>4d86ea85-2eaf-457a-bdba-73ff21830588</td>\n",
              "      <td>20.0</td>\n",
              "      <td>0.0</td>\n",
              "      <td>3.0</td>\n",
              "      <td>0.0</td>\n",
              "      <td>2.0</td>\n",
              "      <td>30.796314</td>\n",
              "    </tr>\n",
              "  </tbody>\n",
              "</table>\n",
              "<p>141363 rows × 10 columns</p>\n",
              "</div>\n",
              "      <button class=\"colab-df-convert\" onclick=\"convertToInteractive('df-f8d49c9d-21c9-4915-8f73-6871b818b9d3')\"\n",
              "              title=\"Convert this dataframe to an interactive table.\"\n",
              "              style=\"display:none;\">\n",
              "        \n",
              "  <svg xmlns=\"http://www.w3.org/2000/svg\" height=\"24px\"viewBox=\"0 0 24 24\"\n",
              "       width=\"24px\">\n",
              "    <path d=\"M0 0h24v24H0V0z\" fill=\"none\"/>\n",
              "    <path d=\"M18.56 5.44l.94 2.06.94-2.06 2.06-.94-2.06-.94-.94-2.06-.94 2.06-2.06.94zm-11 1L8.5 8.5l.94-2.06 2.06-.94-2.06-.94L8.5 2.5l-.94 2.06-2.06.94zm10 10l.94 2.06.94-2.06 2.06-.94-2.06-.94-.94-2.06-.94 2.06-2.06.94z\"/><path d=\"M17.41 7.96l-1.37-1.37c-.4-.4-.92-.59-1.43-.59-.52 0-1.04.2-1.43.59L10.3 9.45l-7.72 7.72c-.78.78-.78 2.05 0 2.83L4 21.41c.39.39.9.59 1.41.59.51 0 1.02-.2 1.41-.59l7.78-7.78 2.81-2.81c.8-.78.8-2.07 0-2.86zM5.41 20L4 18.59l7.72-7.72 1.47 1.35L5.41 20z\"/>\n",
              "  </svg>\n",
              "      </button>\n",
              "      \n",
              "  <style>\n",
              "    .colab-df-container {\n",
              "      display:flex;\n",
              "      flex-wrap:wrap;\n",
              "      gap: 12px;\n",
              "    }\n",
              "\n",
              "    .colab-df-convert {\n",
              "      background-color: #E8F0FE;\n",
              "      border: none;\n",
              "      border-radius: 50%;\n",
              "      cursor: pointer;\n",
              "      display: none;\n",
              "      fill: #1967D2;\n",
              "      height: 32px;\n",
              "      padding: 0 0 0 0;\n",
              "      width: 32px;\n",
              "    }\n",
              "\n",
              "    .colab-df-convert:hover {\n",
              "      background-color: #E2EBFA;\n",
              "      box-shadow: 0px 1px 2px rgba(60, 64, 67, 0.3), 0px 1px 3px 1px rgba(60, 64, 67, 0.15);\n",
              "      fill: #174EA6;\n",
              "    }\n",
              "\n",
              "    [theme=dark] .colab-df-convert {\n",
              "      background-color: #3B4455;\n",
              "      fill: #D2E3FC;\n",
              "    }\n",
              "\n",
              "    [theme=dark] .colab-df-convert:hover {\n",
              "      background-color: #434B5C;\n",
              "      box-shadow: 0px 1px 3px 1px rgba(0, 0, 0, 0.15);\n",
              "      filter: drop-shadow(0px 1px 2px rgba(0, 0, 0, 0.3));\n",
              "      fill: #FFFFFF;\n",
              "    }\n",
              "  </style>\n",
              "\n",
              "      <script>\n",
              "        const buttonEl =\n",
              "          document.querySelector('#df-f8d49c9d-21c9-4915-8f73-6871b818b9d3 button.colab-df-convert');\n",
              "        buttonEl.style.display =\n",
              "          google.colab.kernel.accessAllowed ? 'block' : 'none';\n",
              "\n",
              "        async function convertToInteractive(key) {\n",
              "          const element = document.querySelector('#df-f8d49c9d-21c9-4915-8f73-6871b818b9d3');\n",
              "          const dataTable =\n",
              "            await google.colab.kernel.invokeFunction('convertToInteractive',\n",
              "                                                     [key], {});\n",
              "          if (!dataTable) return;\n",
              "\n",
              "          const docLinkHtml = 'Like what you see? Visit the ' +\n",
              "            '<a target=\"_blank\" href=https://colab.research.google.com/notebooks/data_table.ipynb>data table notebook</a>'\n",
              "            + ' to learn more about interactive tables.';\n",
              "          element.innerHTML = '';\n",
              "          dataTable['output_type'] = 'display_data';\n",
              "          await google.colab.output.renderOutput(dataTable, element);\n",
              "          const docLink = document.createElement('div');\n",
              "          docLink.innerHTML = docLinkHtml;\n",
              "          element.appendChild(docLink);\n",
              "        }\n",
              "      </script>\n",
              "    </div>\n",
              "  </div>\n",
              "  "
            ]
          },
          "metadata": {},
          "execution_count": 12
        }
      ]
    },
    {
      "cell_type": "code",
      "source": [
        "merg = df_person_data.merge(df_person_district[[\"person_id\",\"district\"]],\n",
        "                   on=\"person_id\", how=\"left\")\n",
        "merg"
      ],
      "metadata": {
        "colab": {
          "base_uri": "https://localhost:8080/",
          "height": 423
        },
        "id": "1-_eX89tJ1Xr",
        "outputId": "e3bb4a13-6ca2-463f-8987-b567787f6629"
      },
      "id": "1-_eX89tJ1Xr",
      "execution_count": 13,
      "outputs": [
        {
          "output_type": "execute_result",
          "data": {
            "text/plain": [
              "                                  person_id   age  n_kids  n_vg  n_con  \\\n",
              "0      50c4c7e2-89a6-440b-a8e3-c44aa2c6150e  14.0       0     0      0   \n",
              "1      16f3bafb-9556-434e-adab-cb02f41fe32a  18.0       0     2      0   \n",
              "2      0fa17eee-7214-4609-97fe-dd3093601800  28.0       0     3      0   \n",
              "3      8db4ca66-dfb2-43f2-9c22-aa861dd0d218  20.0       1    72      0   \n",
              "4      51fed64a-375e-417f-94e4-4d27c368ea44  32.0       1    58      1   \n",
              "...                                     ...   ...     ...   ...    ...   \n",
              "69995  8cbea1e2-3257-4db5-ae59-84faa48cfde2  32.0       4    62      1   \n",
              "69996  e099ace5-a760-4362-a9ea-ae8cee590b86  36.0       0    53      1   \n",
              "69997  e9b0604e-ec84-4704-8e75-eabfd59ac4fb  19.0       0     1      1   \n",
              "69998  e20f8ec5-0ddf-4674-ac1f-d6280b6640ab  31.0       2    49      3   \n",
              "69999  4d86ea85-2eaf-457a-bdba-73ff21830588  20.0       0     3      0   \n",
              "\n",
              "       n_presub  n_hours_playing      district  \n",
              "0             0        18.422745   Metdunstone  \n",
              "1             0        20.693273  Tashnerspool  \n",
              "2             0        22.412490  Tashnerspool  \n",
              "3             0       299.187025         Ulven  \n",
              "4             3        20.367141     Red Onvey  \n",
              "...         ...              ...           ...  \n",
              "69995         2        21.378288     Bluffssel  \n",
              "69996         1         3.707476   Highnantmar  \n",
              "69997         0        23.809075  Tashnerspool  \n",
              "69998         2        15.708397   Highnantmar  \n",
              "69999         2        30.796314    San Readma  \n",
              "\n",
              "[70000 rows x 8 columns]"
            ],
            "text/html": [
              "\n",
              "  <div id=\"df-69e4912d-d0aa-48b9-b3d5-f582e74259fe\">\n",
              "    <div class=\"colab-df-container\">\n",
              "      <div>\n",
              "<style scoped>\n",
              "    .dataframe tbody tr th:only-of-type {\n",
              "        vertical-align: middle;\n",
              "    }\n",
              "\n",
              "    .dataframe tbody tr th {\n",
              "        vertical-align: top;\n",
              "    }\n",
              "\n",
              "    .dataframe thead th {\n",
              "        text-align: right;\n",
              "    }\n",
              "</style>\n",
              "<table border=\"1\" class=\"dataframe\">\n",
              "  <thead>\n",
              "    <tr style=\"text-align: right;\">\n",
              "      <th></th>\n",
              "      <th>person_id</th>\n",
              "      <th>age</th>\n",
              "      <th>n_kids</th>\n",
              "      <th>n_vg</th>\n",
              "      <th>n_con</th>\n",
              "      <th>n_presub</th>\n",
              "      <th>n_hours_playing</th>\n",
              "      <th>district</th>\n",
              "    </tr>\n",
              "  </thead>\n",
              "  <tbody>\n",
              "    <tr>\n",
              "      <th>0</th>\n",
              "      <td>50c4c7e2-89a6-440b-a8e3-c44aa2c6150e</td>\n",
              "      <td>14.0</td>\n",
              "      <td>0</td>\n",
              "      <td>0</td>\n",
              "      <td>0</td>\n",
              "      <td>0</td>\n",
              "      <td>18.422745</td>\n",
              "      <td>Metdunstone</td>\n",
              "    </tr>\n",
              "    <tr>\n",
              "      <th>1</th>\n",
              "      <td>16f3bafb-9556-434e-adab-cb02f41fe32a</td>\n",
              "      <td>18.0</td>\n",
              "      <td>0</td>\n",
              "      <td>2</td>\n",
              "      <td>0</td>\n",
              "      <td>0</td>\n",
              "      <td>20.693273</td>\n",
              "      <td>Tashnerspool</td>\n",
              "    </tr>\n",
              "    <tr>\n",
              "      <th>2</th>\n",
              "      <td>0fa17eee-7214-4609-97fe-dd3093601800</td>\n",
              "      <td>28.0</td>\n",
              "      <td>0</td>\n",
              "      <td>3</td>\n",
              "      <td>0</td>\n",
              "      <td>0</td>\n",
              "      <td>22.412490</td>\n",
              "      <td>Tashnerspool</td>\n",
              "    </tr>\n",
              "    <tr>\n",
              "      <th>3</th>\n",
              "      <td>8db4ca66-dfb2-43f2-9c22-aa861dd0d218</td>\n",
              "      <td>20.0</td>\n",
              "      <td>1</td>\n",
              "      <td>72</td>\n",
              "      <td>0</td>\n",
              "      <td>0</td>\n",
              "      <td>299.187025</td>\n",
              "      <td>Ulven</td>\n",
              "    </tr>\n",
              "    <tr>\n",
              "      <th>4</th>\n",
              "      <td>51fed64a-375e-417f-94e4-4d27c368ea44</td>\n",
              "      <td>32.0</td>\n",
              "      <td>1</td>\n",
              "      <td>58</td>\n",
              "      <td>1</td>\n",
              "      <td>3</td>\n",
              "      <td>20.367141</td>\n",
              "      <td>Red Onvey</td>\n",
              "    </tr>\n",
              "    <tr>\n",
              "      <th>...</th>\n",
              "      <td>...</td>\n",
              "      <td>...</td>\n",
              "      <td>...</td>\n",
              "      <td>...</td>\n",
              "      <td>...</td>\n",
              "      <td>...</td>\n",
              "      <td>...</td>\n",
              "      <td>...</td>\n",
              "    </tr>\n",
              "    <tr>\n",
              "      <th>69995</th>\n",
              "      <td>8cbea1e2-3257-4db5-ae59-84faa48cfde2</td>\n",
              "      <td>32.0</td>\n",
              "      <td>4</td>\n",
              "      <td>62</td>\n",
              "      <td>1</td>\n",
              "      <td>2</td>\n",
              "      <td>21.378288</td>\n",
              "      <td>Bluffssel</td>\n",
              "    </tr>\n",
              "    <tr>\n",
              "      <th>69996</th>\n",
              "      <td>e099ace5-a760-4362-a9ea-ae8cee590b86</td>\n",
              "      <td>36.0</td>\n",
              "      <td>0</td>\n",
              "      <td>53</td>\n",
              "      <td>1</td>\n",
              "      <td>1</td>\n",
              "      <td>3.707476</td>\n",
              "      <td>Highnantmar</td>\n",
              "    </tr>\n",
              "    <tr>\n",
              "      <th>69997</th>\n",
              "      <td>e9b0604e-ec84-4704-8e75-eabfd59ac4fb</td>\n",
              "      <td>19.0</td>\n",
              "      <td>0</td>\n",
              "      <td>1</td>\n",
              "      <td>1</td>\n",
              "      <td>0</td>\n",
              "      <td>23.809075</td>\n",
              "      <td>Tashnerspool</td>\n",
              "    </tr>\n",
              "    <tr>\n",
              "      <th>69998</th>\n",
              "      <td>e20f8ec5-0ddf-4674-ac1f-d6280b6640ab</td>\n",
              "      <td>31.0</td>\n",
              "      <td>2</td>\n",
              "      <td>49</td>\n",
              "      <td>3</td>\n",
              "      <td>2</td>\n",
              "      <td>15.708397</td>\n",
              "      <td>Highnantmar</td>\n",
              "    </tr>\n",
              "    <tr>\n",
              "      <th>69999</th>\n",
              "      <td>4d86ea85-2eaf-457a-bdba-73ff21830588</td>\n",
              "      <td>20.0</td>\n",
              "      <td>0</td>\n",
              "      <td>3</td>\n",
              "      <td>0</td>\n",
              "      <td>2</td>\n",
              "      <td>30.796314</td>\n",
              "      <td>San Readma</td>\n",
              "    </tr>\n",
              "  </tbody>\n",
              "</table>\n",
              "<p>70000 rows × 8 columns</p>\n",
              "</div>\n",
              "      <button class=\"colab-df-convert\" onclick=\"convertToInteractive('df-69e4912d-d0aa-48b9-b3d5-f582e74259fe')\"\n",
              "              title=\"Convert this dataframe to an interactive table.\"\n",
              "              style=\"display:none;\">\n",
              "        \n",
              "  <svg xmlns=\"http://www.w3.org/2000/svg\" height=\"24px\"viewBox=\"0 0 24 24\"\n",
              "       width=\"24px\">\n",
              "    <path d=\"M0 0h24v24H0V0z\" fill=\"none\"/>\n",
              "    <path d=\"M18.56 5.44l.94 2.06.94-2.06 2.06-.94-2.06-.94-.94-2.06-.94 2.06-2.06.94zm-11 1L8.5 8.5l.94-2.06 2.06-.94-2.06-.94L8.5 2.5l-.94 2.06-2.06.94zm10 10l.94 2.06.94-2.06 2.06-.94-2.06-.94-.94-2.06-.94 2.06-2.06.94z\"/><path d=\"M17.41 7.96l-1.37-1.37c-.4-.4-.92-.59-1.43-.59-.52 0-1.04.2-1.43.59L10.3 9.45l-7.72 7.72c-.78.78-.78 2.05 0 2.83L4 21.41c.39.39.9.59 1.41.59.51 0 1.02-.2 1.41-.59l7.78-7.78 2.81-2.81c.8-.78.8-2.07 0-2.86zM5.41 20L4 18.59l7.72-7.72 1.47 1.35L5.41 20z\"/>\n",
              "  </svg>\n",
              "      </button>\n",
              "      \n",
              "  <style>\n",
              "    .colab-df-container {\n",
              "      display:flex;\n",
              "      flex-wrap:wrap;\n",
              "      gap: 12px;\n",
              "    }\n",
              "\n",
              "    .colab-df-convert {\n",
              "      background-color: #E8F0FE;\n",
              "      border: none;\n",
              "      border-radius: 50%;\n",
              "      cursor: pointer;\n",
              "      display: none;\n",
              "      fill: #1967D2;\n",
              "      height: 32px;\n",
              "      padding: 0 0 0 0;\n",
              "      width: 32px;\n",
              "    }\n",
              "\n",
              "    .colab-df-convert:hover {\n",
              "      background-color: #E2EBFA;\n",
              "      box-shadow: 0px 1px 2px rgba(60, 64, 67, 0.3), 0px 1px 3px 1px rgba(60, 64, 67, 0.15);\n",
              "      fill: #174EA6;\n",
              "    }\n",
              "\n",
              "    [theme=dark] .colab-df-convert {\n",
              "      background-color: #3B4455;\n",
              "      fill: #D2E3FC;\n",
              "    }\n",
              "\n",
              "    [theme=dark] .colab-df-convert:hover {\n",
              "      background-color: #434B5C;\n",
              "      box-shadow: 0px 1px 3px 1px rgba(0, 0, 0, 0.15);\n",
              "      filter: drop-shadow(0px 1px 2px rgba(0, 0, 0, 0.3));\n",
              "      fill: #FFFFFF;\n",
              "    }\n",
              "  </style>\n",
              "\n",
              "      <script>\n",
              "        const buttonEl =\n",
              "          document.querySelector('#df-69e4912d-d0aa-48b9-b3d5-f582e74259fe button.colab-df-convert');\n",
              "        buttonEl.style.display =\n",
              "          google.colab.kernel.accessAllowed ? 'block' : 'none';\n",
              "\n",
              "        async function convertToInteractive(key) {\n",
              "          const element = document.querySelector('#df-69e4912d-d0aa-48b9-b3d5-f582e74259fe');\n",
              "          const dataTable =\n",
              "            await google.colab.kernel.invokeFunction('convertToInteractive',\n",
              "                                                     [key], {});\n",
              "          if (!dataTable) return;\n",
              "\n",
              "          const docLinkHtml = 'Like what you see? Visit the ' +\n",
              "            '<a target=\"_blank\" href=https://colab.research.google.com/notebooks/data_table.ipynb>data table notebook</a>'\n",
              "            + ' to learn more about interactive tables.';\n",
              "          element.innerHTML = '';\n",
              "          dataTable['output_type'] = 'display_data';\n",
              "          await google.colab.output.renderOutput(dataTable, element);\n",
              "          const docLink = document.createElement('div');\n",
              "          docLink.innerHTML = docLinkHtml;\n",
              "          element.appendChild(docLink);\n",
              "        }\n",
              "      </script>\n",
              "    </div>\n",
              "  </div>\n",
              "  "
            ]
          },
          "metadata": {},
          "execution_count": 13
        }
      ]
    },
    {
      "cell_type": "code",
      "source": [
        "merge = merg.merge(df_districts_house_prices[[\"district\",\"house_price\",\"house_number\"]],\n",
        "                   on=\"district\", how=\"left\")\n",
        "merge"
      ],
      "metadata": {
        "colab": {
          "base_uri": "https://localhost:8080/",
          "height": 423
        },
        "id": "5mNPPFJbJo0_",
        "outputId": "f132a5b2-faa3-4cda-ef5f-541de4e48622"
      },
      "id": "5mNPPFJbJo0_",
      "execution_count": 14,
      "outputs": [
        {
          "output_type": "execute_result",
          "data": {
            "text/plain": [
              "                                    person_id   age  n_kids  n_vg  n_con  \\\n",
              "0        50c4c7e2-89a6-440b-a8e3-c44aa2c6150e  14.0       0     0      0   \n",
              "1        50c4c7e2-89a6-440b-a8e3-c44aa2c6150e  14.0       0     0      0   \n",
              "2        50c4c7e2-89a6-440b-a8e3-c44aa2c6150e  14.0       0     0      0   \n",
              "3        50c4c7e2-89a6-440b-a8e3-c44aa2c6150e  14.0       0     0      0   \n",
              "4        50c4c7e2-89a6-440b-a8e3-c44aa2c6150e  14.0       0     0      0   \n",
              "...                                       ...   ...     ...   ...    ...   \n",
              "2014062  4d86ea85-2eaf-457a-bdba-73ff21830588  20.0       0     3      0   \n",
              "2014063  4d86ea85-2eaf-457a-bdba-73ff21830588  20.0       0     3      0   \n",
              "2014064  4d86ea85-2eaf-457a-bdba-73ff21830588  20.0       0     3      0   \n",
              "2014065  4d86ea85-2eaf-457a-bdba-73ff21830588  20.0       0     3      0   \n",
              "2014066  4d86ea85-2eaf-457a-bdba-73ff21830588  20.0       0     3      0   \n",
              "\n",
              "         n_presub  n_hours_playing     district  house_price  house_number  \n",
              "0               0        18.422745  Metdunstone     323177.0             1  \n",
              "1               0        18.422745  Metdunstone          NaN             2  \n",
              "2               0        18.422745  Metdunstone     333360.0             3  \n",
              "3               0        18.422745  Metdunstone     319360.0             4  \n",
              "4               0        18.422745  Metdunstone     333934.0             5  \n",
              "...           ...              ...          ...          ...           ...  \n",
              "2014062         2        30.796314   San Readma     260717.0            40  \n",
              "2014063         2        30.796314   San Readma     278363.0            41  \n",
              "2014064         2        30.796314   San Readma     284910.0            42  \n",
              "2014065         2        30.796314   San Readma     255544.0            43  \n",
              "2014066         2        30.796314   San Readma     213144.0            44  \n",
              "\n",
              "[2014067 rows x 10 columns]"
            ],
            "text/html": [
              "\n",
              "  <div id=\"df-13829cde-4580-4cd4-8da2-a5e19f711735\">\n",
              "    <div class=\"colab-df-container\">\n",
              "      <div>\n",
              "<style scoped>\n",
              "    .dataframe tbody tr th:only-of-type {\n",
              "        vertical-align: middle;\n",
              "    }\n",
              "\n",
              "    .dataframe tbody tr th {\n",
              "        vertical-align: top;\n",
              "    }\n",
              "\n",
              "    .dataframe thead th {\n",
              "        text-align: right;\n",
              "    }\n",
              "</style>\n",
              "<table border=\"1\" class=\"dataframe\">\n",
              "  <thead>\n",
              "    <tr style=\"text-align: right;\">\n",
              "      <th></th>\n",
              "      <th>person_id</th>\n",
              "      <th>age</th>\n",
              "      <th>n_kids</th>\n",
              "      <th>n_vg</th>\n",
              "      <th>n_con</th>\n",
              "      <th>n_presub</th>\n",
              "      <th>n_hours_playing</th>\n",
              "      <th>district</th>\n",
              "      <th>house_price</th>\n",
              "      <th>house_number</th>\n",
              "    </tr>\n",
              "  </thead>\n",
              "  <tbody>\n",
              "    <tr>\n",
              "      <th>0</th>\n",
              "      <td>50c4c7e2-89a6-440b-a8e3-c44aa2c6150e</td>\n",
              "      <td>14.0</td>\n",
              "      <td>0</td>\n",
              "      <td>0</td>\n",
              "      <td>0</td>\n",
              "      <td>0</td>\n",
              "      <td>18.422745</td>\n",
              "      <td>Metdunstone</td>\n",
              "      <td>323177.0</td>\n",
              "      <td>1</td>\n",
              "    </tr>\n",
              "    <tr>\n",
              "      <th>1</th>\n",
              "      <td>50c4c7e2-89a6-440b-a8e3-c44aa2c6150e</td>\n",
              "      <td>14.0</td>\n",
              "      <td>0</td>\n",
              "      <td>0</td>\n",
              "      <td>0</td>\n",
              "      <td>0</td>\n",
              "      <td>18.422745</td>\n",
              "      <td>Metdunstone</td>\n",
              "      <td>NaN</td>\n",
              "      <td>2</td>\n",
              "    </tr>\n",
              "    <tr>\n",
              "      <th>2</th>\n",
              "      <td>50c4c7e2-89a6-440b-a8e3-c44aa2c6150e</td>\n",
              "      <td>14.0</td>\n",
              "      <td>0</td>\n",
              "      <td>0</td>\n",
              "      <td>0</td>\n",
              "      <td>0</td>\n",
              "      <td>18.422745</td>\n",
              "      <td>Metdunstone</td>\n",
              "      <td>333360.0</td>\n",
              "      <td>3</td>\n",
              "    </tr>\n",
              "    <tr>\n",
              "      <th>3</th>\n",
              "      <td>50c4c7e2-89a6-440b-a8e3-c44aa2c6150e</td>\n",
              "      <td>14.0</td>\n",
              "      <td>0</td>\n",
              "      <td>0</td>\n",
              "      <td>0</td>\n",
              "      <td>0</td>\n",
              "      <td>18.422745</td>\n",
              "      <td>Metdunstone</td>\n",
              "      <td>319360.0</td>\n",
              "      <td>4</td>\n",
              "    </tr>\n",
              "    <tr>\n",
              "      <th>4</th>\n",
              "      <td>50c4c7e2-89a6-440b-a8e3-c44aa2c6150e</td>\n",
              "      <td>14.0</td>\n",
              "      <td>0</td>\n",
              "      <td>0</td>\n",
              "      <td>0</td>\n",
              "      <td>0</td>\n",
              "      <td>18.422745</td>\n",
              "      <td>Metdunstone</td>\n",
              "      <td>333934.0</td>\n",
              "      <td>5</td>\n",
              "    </tr>\n",
              "    <tr>\n",
              "      <th>...</th>\n",
              "      <td>...</td>\n",
              "      <td>...</td>\n",
              "      <td>...</td>\n",
              "      <td>...</td>\n",
              "      <td>...</td>\n",
              "      <td>...</td>\n",
              "      <td>...</td>\n",
              "      <td>...</td>\n",
              "      <td>...</td>\n",
              "      <td>...</td>\n",
              "    </tr>\n",
              "    <tr>\n",
              "      <th>2014062</th>\n",
              "      <td>4d86ea85-2eaf-457a-bdba-73ff21830588</td>\n",
              "      <td>20.0</td>\n",
              "      <td>0</td>\n",
              "      <td>3</td>\n",
              "      <td>0</td>\n",
              "      <td>2</td>\n",
              "      <td>30.796314</td>\n",
              "      <td>San Readma</td>\n",
              "      <td>260717.0</td>\n",
              "      <td>40</td>\n",
              "    </tr>\n",
              "    <tr>\n",
              "      <th>2014063</th>\n",
              "      <td>4d86ea85-2eaf-457a-bdba-73ff21830588</td>\n",
              "      <td>20.0</td>\n",
              "      <td>0</td>\n",
              "      <td>3</td>\n",
              "      <td>0</td>\n",
              "      <td>2</td>\n",
              "      <td>30.796314</td>\n",
              "      <td>San Readma</td>\n",
              "      <td>278363.0</td>\n",
              "      <td>41</td>\n",
              "    </tr>\n",
              "    <tr>\n",
              "      <th>2014064</th>\n",
              "      <td>4d86ea85-2eaf-457a-bdba-73ff21830588</td>\n",
              "      <td>20.0</td>\n",
              "      <td>0</td>\n",
              "      <td>3</td>\n",
              "      <td>0</td>\n",
              "      <td>2</td>\n",
              "      <td>30.796314</td>\n",
              "      <td>San Readma</td>\n",
              "      <td>284910.0</td>\n",
              "      <td>42</td>\n",
              "    </tr>\n",
              "    <tr>\n",
              "      <th>2014065</th>\n",
              "      <td>4d86ea85-2eaf-457a-bdba-73ff21830588</td>\n",
              "      <td>20.0</td>\n",
              "      <td>0</td>\n",
              "      <td>3</td>\n",
              "      <td>0</td>\n",
              "      <td>2</td>\n",
              "      <td>30.796314</td>\n",
              "      <td>San Readma</td>\n",
              "      <td>255544.0</td>\n",
              "      <td>43</td>\n",
              "    </tr>\n",
              "    <tr>\n",
              "      <th>2014066</th>\n",
              "      <td>4d86ea85-2eaf-457a-bdba-73ff21830588</td>\n",
              "      <td>20.0</td>\n",
              "      <td>0</td>\n",
              "      <td>3</td>\n",
              "      <td>0</td>\n",
              "      <td>2</td>\n",
              "      <td>30.796314</td>\n",
              "      <td>San Readma</td>\n",
              "      <td>213144.0</td>\n",
              "      <td>44</td>\n",
              "    </tr>\n",
              "  </tbody>\n",
              "</table>\n",
              "<p>2014067 rows × 10 columns</p>\n",
              "</div>\n",
              "      <button class=\"colab-df-convert\" onclick=\"convertToInteractive('df-13829cde-4580-4cd4-8da2-a5e19f711735')\"\n",
              "              title=\"Convert this dataframe to an interactive table.\"\n",
              "              style=\"display:none;\">\n",
              "        \n",
              "  <svg xmlns=\"http://www.w3.org/2000/svg\" height=\"24px\"viewBox=\"0 0 24 24\"\n",
              "       width=\"24px\">\n",
              "    <path d=\"M0 0h24v24H0V0z\" fill=\"none\"/>\n",
              "    <path d=\"M18.56 5.44l.94 2.06.94-2.06 2.06-.94-2.06-.94-.94-2.06-.94 2.06-2.06.94zm-11 1L8.5 8.5l.94-2.06 2.06-.94-2.06-.94L8.5 2.5l-.94 2.06-2.06.94zm10 10l.94 2.06.94-2.06 2.06-.94-2.06-.94-.94-2.06-.94 2.06-2.06.94z\"/><path d=\"M17.41 7.96l-1.37-1.37c-.4-.4-.92-.59-1.43-.59-.52 0-1.04.2-1.43.59L10.3 9.45l-7.72 7.72c-.78.78-.78 2.05 0 2.83L4 21.41c.39.39.9.59 1.41.59.51 0 1.02-.2 1.41-.59l7.78-7.78 2.81-2.81c.8-.78.8-2.07 0-2.86zM5.41 20L4 18.59l7.72-7.72 1.47 1.35L5.41 20z\"/>\n",
              "  </svg>\n",
              "      </button>\n",
              "      \n",
              "  <style>\n",
              "    .colab-df-container {\n",
              "      display:flex;\n",
              "      flex-wrap:wrap;\n",
              "      gap: 12px;\n",
              "    }\n",
              "\n",
              "    .colab-df-convert {\n",
              "      background-color: #E8F0FE;\n",
              "      border: none;\n",
              "      border-radius: 50%;\n",
              "      cursor: pointer;\n",
              "      display: none;\n",
              "      fill: #1967D2;\n",
              "      height: 32px;\n",
              "      padding: 0 0 0 0;\n",
              "      width: 32px;\n",
              "    }\n",
              "\n",
              "    .colab-df-convert:hover {\n",
              "      background-color: #E2EBFA;\n",
              "      box-shadow: 0px 1px 2px rgba(60, 64, 67, 0.3), 0px 1px 3px 1px rgba(60, 64, 67, 0.15);\n",
              "      fill: #174EA6;\n",
              "    }\n",
              "\n",
              "    [theme=dark] .colab-df-convert {\n",
              "      background-color: #3B4455;\n",
              "      fill: #D2E3FC;\n",
              "    }\n",
              "\n",
              "    [theme=dark] .colab-df-convert:hover {\n",
              "      background-color: #434B5C;\n",
              "      box-shadow: 0px 1px 3px 1px rgba(0, 0, 0, 0.15);\n",
              "      filter: drop-shadow(0px 1px 2px rgba(0, 0, 0, 0.3));\n",
              "      fill: #FFFFFF;\n",
              "    }\n",
              "  </style>\n",
              "\n",
              "      <script>\n",
              "        const buttonEl =\n",
              "          document.querySelector('#df-13829cde-4580-4cd4-8da2-a5e19f711735 button.colab-df-convert');\n",
              "        buttonEl.style.display =\n",
              "          google.colab.kernel.accessAllowed ? 'block' : 'none';\n",
              "\n",
              "        async function convertToInteractive(key) {\n",
              "          const element = document.querySelector('#df-13829cde-4580-4cd4-8da2-a5e19f711735');\n",
              "          const dataTable =\n",
              "            await google.colab.kernel.invokeFunction('convertToInteractive',\n",
              "                                                     [key], {});\n",
              "          if (!dataTable) return;\n",
              "\n",
              "          const docLinkHtml = 'Like what you see? Visit the ' +\n",
              "            '<a target=\"_blank\" href=https://colab.research.google.com/notebooks/data_table.ipynb>data table notebook</a>'\n",
              "            + ' to learn more about interactive tables.';\n",
              "          element.innerHTML = '';\n",
              "          dataTable['output_type'] = 'display_data';\n",
              "          await google.colab.output.renderOutput(dataTable, element);\n",
              "          const docLink = document.createElement('div');\n",
              "          docLink.innerHTML = docLinkHtml;\n",
              "          element.appendChild(docLink);\n",
              "        }\n",
              "      </script>\n",
              "    </div>\n",
              "  </div>\n",
              "  "
            ]
          },
          "metadata": {},
          "execution_count": 14
        }
      ]
    },
    {
      "cell_type": "markdown",
      "metadata": {
        "id": "-0uDBqNXIvu2"
      },
      "source": [
        "### 3. Plot age vs avg house price. What does this plot tell you? (younger people live in more expensive districts)"
      ],
      "id": "-0uDBqNXIvu2"
    },
    {
      "cell_type": "code",
      "execution_count": 15,
      "metadata": {
        "colab": {
          "base_uri": "https://localhost:8080/",
          "height": 688
        },
        "id": "08wt5EsBIvu2",
        "outputId": "505b3645-874c-46b1-fd8f-d6b3277e7574"
      },
      "outputs": [
        {
          "output_type": "execute_result",
          "data": {
            "text/plain": [
              "<Axes: >"
            ]
          },
          "metadata": {},
          "execution_count": 15
        },
        {
          "output_type": "display_data",
          "data": {
            "text/plain": [
              "<Figure size 900x800 with 1 Axes>"
            ],
            "image/png": "[encoded data removed]"
          },
          "metadata": {}
        }
      ],
      "source": [
        "# form dataframe\n",
        "data = frame.head()\n",
        " \n",
        "df = pd.DataFrame(data, columns=[\"house_price\", \"age\"])\n",
        " \n",
        "# plot the dataframe\n",
        "df.plot( y=[\"house_price\", \"age\"], kind=\"bar\", figsize=(9, 8))"
      ],
      "id": "08wt5EsBIvu2"
    },
    {
      "cell_type": "code",
      "source": [
        "import matplotlib.pyplot as plt\n",
        "\n",
        "average_price_by_age = merge.groupby('age')['house_price'].mean()\n",
        "ages = average_price_by_age.index\n",
        "avg_prices = average_price_by_age.values\n",
        "plt.plot(ages, avg_prices, marker='o', linestyle='-')\n",
        "\n",
        "plt.xlabel('Age')\n",
        "plt.ylabel('Average House Price')\n",
        "plt.title('Age vs Average House Price')\n",
        "plt.show()"
      ],
      "metadata": {
        "colab": {
          "base_uri": "https://localhost:8080/",
          "height": 472
        },
        "id": "Jo1nGiHJI-9R",
        "outputId": "942b218a-4926-48bd-d144-f9f0d9548ce0"
      },
      "id": "Jo1nGiHJI-9R",
      "execution_count": 17,
      "outputs": [
        {
          "output_type": "display_data",
          "data": {
            "text/plain": [
              "<Figure size 640x480 with 1 Axes>"
            ],
            "image/png": "[encoded data removed]"
          },
          "metadata": {}
        }
      ]
    },
    {
      "cell_type": "markdown",
      "metadata": {
        "id": "y97cwRi4Ivu2"
      },
      "source": [
        "## Probability and Statistics:\n",
        "\n",
        "The goal of these questions is to test your ability to answer probability and stat questions with code.   \n",
        "Use whatever libraries you are comfortable with.   \n",
        "Code clarity and cleanliness are also highly valuable.   \n"
      ],
      "id": "y97cwRi4Ivu2"
    },
    {
      "cell_type": "markdown",
      "metadata": {
        "id": "qn-MKvVwIvu3"
      },
      "source": [
        "### 1. What's the probability of a customer having 2 kids"
      ],
      "id": "qn-MKvVwIvu3"
    },
    {
      "cell_type": "code",
      "execution_count": 18,
      "metadata": {
        "colab": {
          "base_uri": "https://localhost:8080/"
        },
        "id": "hx_ta-NHIvu3",
        "outputId": "250829ff-58e4-490b-a4fc-179b69c5a494"
      },
      "outputs": [
        {
          "output_type": "execute_result",
          "data": {
            "text/plain": [
              "0.10017142857142858"
            ]
          },
          "metadata": {},
          "execution_count": 18
        }
      ],
      "source": [
        "event_count = frame['n_kids'].value_counts()[2]\n",
        "total_count = frame['n_kids'].count()\n",
        "probability = event_count / total_count\n",
        "probability"
      ],
      "id": "hx_ta-NHIvu3"
    },
    {
      "cell_type": "markdown",
      "metadata": {
        "id": "Mls-uPwIIvu3"
      },
      "source": [
        "### 2. What's the probability of a customer owning more than 10 video games given that they have less than 2 kids"
      ],
      "id": "Mls-uPwIIvu3"
    },
    {
      "cell_type": "code",
      "source": [
        "filtered_df = merg[merg['n_kids'] < 2]\n",
        "customers_more_than_10_games = filtered_df[filtered_df['n_vg'] > 10]\n",
        "count_more_than_10_games = len(customers_more_than_10_games)\n",
        "count_less_than_2_kids = len(filtered_df)\n",
        "probability = count_more_than_10_games / count_less_than_2_kids\n",
        "print(\"Probability:\", probability)"
      ],
      "metadata": {
        "colab": {
          "base_uri": "https://localhost:8080/"
        },
        "id": "9OcmKhiKKz79",
        "outputId": "6a65498b-01b3-44af-e189-1fb52402baf6"
      },
      "id": "9OcmKhiKKz79",
      "execution_count": 21,
      "outputs": [
        {
          "output_type": "stream",
          "name": "stdout",
          "text": [
            "Probability: 0.4018363273453094\n"
          ]
        }
      ]
    },
    {
      "cell_type": "markdown",
      "metadata": {
        "id": "VX3Ja2E6Ivu4"
      },
      "source": [
        "### 3. Plot the distribution of the number of hours played by customers `n_hours_playing`. Briefly explain what you understand now about the customers' playing hours."
      ],
      "id": "VX3Ja2E6Ivu4"
    },
    {
      "cell_type": "code",
      "execution_count": 23,
      "metadata": {
        "colab": {
          "base_uri": "https://localhost:8080/",
          "height": 472
        },
        "id": "OKMi0ZQmIvu4",
        "outputId": "9086fc7a-94cb-4c9d-e27b-f616362b5ca5"
      },
      "outputs": [
        {
          "output_type": "display_data",
          "data": {
            "text/plain": [
              "<Figure size 640x480 with 1 Axes>"
            ],
            "image/png": "[encoded data removed]"
          },
          "metadata": {}
        }
      ],
      "source": [
        "import seaborn as sns\n",
        "\n",
        "sns.histplot(frame['n_hours_playing'], kde=True , color='red')\n",
        "plt.xlabel('Number of hours playing')\n",
        "plt.ylabel('Density')\n",
        "plt.title('Number Distribution')\n",
        "plt.show()"
      ],
      "id": "OKMi0ZQmIvu4"
    },
    {
      "cell_type": "code",
      "source": [
        "n_hours_playing_array = frame['n_hours_playing'].to_numpy()  "
      ],
      "metadata": {
        "id": "R2-0TpNeGF3x"
      },
      "id": "R2-0TpNeGF3x",
      "execution_count": 24,
      "outputs": []
    },
    {
      "cell_type": "code",
      "source": [
        "n_hours_playing_array = n_hours_playing_array[n_hours_playing_array >= 50]\n",
        "n_hours_playing_array"
      ],
      "metadata": {
        "colab": {
          "base_uri": "https://localhost:8080/"
        },
        "id": "FEUoN8L5GF6d",
        "outputId": "bec3f750-e519-426a-9e74-c1a6705971db"
      },
      "id": "FEUoN8L5GF6d",
      "execution_count": 25,
      "outputs": [
        {
          "output_type": "execute_result",
          "data": {
            "text/plain": [
              "array([299.1870251, 315.8049319, 396.5075161, ..., 356.4372106,\n",
              "       364.1836438, 340.1980612])"
            ]
          },
          "metadata": {},
          "execution_count": 25
        }
      ]
    },
    {
      "cell_type": "markdown",
      "metadata": {
        "id": "H9Nw71RtIvu4"
      },
      "source": [
        "As you can see, most customers have a number of hours less than 50 so let's go ahead and remove any values less than 50.  \n",
        "The distribution of the remaining values look like a normal distribution.  \n",
        "###  4. Estimate the parameters (mean and std deviation) of this normal distribution computationally.  \\\n",
        "### (Bonus: plot the estimated normal distribution on top of the distribution of `n_hours_playing` after removing values < 50)"
      ],
      "id": "H9Nw71RtIvu4"
    },
    {
      "cell_type": "code",
      "execution_count": 26,
      "metadata": {
        "colab": {
          "base_uri": "https://localhost:8080/"
        },
        "id": "vrAC7v38Ivu4",
        "outputId": "e9510546-f618-45cf-a631-97394f109d28"
      },
      "outputs": [
        {
          "output_type": "execute_result",
          "data": {
            "text/plain": [
              "338.54501334662666"
            ]
          },
          "metadata": {},
          "execution_count": 26
        }
      ],
      "source": [
        "np.mean(n_hours_playing_array)"
      ],
      "id": "vrAC7v38Ivu4"
    },
    {
      "cell_type": "code",
      "source": [
        "np.std(n_hours_playing_array)"
      ],
      "metadata": {
        "colab": {
          "base_uri": "https://localhost:8080/"
        },
        "id": "gOL4eS1iF2Zz",
        "outputId": "df048f72-776f-4bea-d778-24120ddc6f61"
      },
      "id": "gOL4eS1iF2Zz",
      "execution_count": 27,
      "outputs": [
        {
          "output_type": "execute_result",
          "data": {
            "text/plain": [
              "48.2925792379227"
            ]
          },
          "metadata": {},
          "execution_count": 27
        }
      ]
    },
    {
      "cell_type": "code",
      "source": [
        "mean_value = np.mean(n_hours_playing_array)\n",
        "std_value = np.std(n_hours_playing_array)\n",
        "\n",
        "sns.histplot(n_hours_playing_array, kde=True, color='red', label='n_hours_playing')\n",
        "x = np.linspace(min(n_hours_playing_array), max(n_hours_playing_array), 100)\n",
        "y = 1 / (std_value * np.sqrt(2 * np.pi)) * np.exp(-(x - mean_value) * 2 / (2 * std_value * 2))\n",
        "plt.plot(x, y, color='blue', label='Estimated Normal Distribution')\n",
        "plt.xlabel('n_hours_playing')\n",
        "plt.ylabel('Density')\n",
        "plt.title('Distribution of n_hours_playing with Estimated Normal Distribution')\n",
        "plt.legend()"
      ],
      "metadata": {
        "colab": {
          "base_uri": "https://localhost:8080/",
          "height": 489
        },
        "id": "EcV0K8ohF2dC",
        "outputId": "609f71fe-0c7c-4822-bc42-2a8958789648"
      },
      "id": "EcV0K8ohF2dC",
      "execution_count": 28,
      "outputs": [
        {
          "output_type": "execute_result",
          "data": {
            "text/plain": [
              "<matplotlib.legend.Legend at 0x7fa03201f3a0>"
            ]
          },
          "metadata": {},
          "execution_count": 28
        },
        {
          "output_type": "display_data",
          "data": {
            "text/plain": [
              "<Figure size 640x480 with 1 Axes>"
            ],
            "image/png": "[encoded data removed]"
          },
          "metadata": {}
        }
      ]
    },
    {
      "cell_type": "code",
      "source": [],
      "metadata": {
        "id": "EGbAEHzwF2gX"
      },
      "id": "EGbAEHzwF2gX",
      "execution_count": null,
      "outputs": []
    },
    {
      "cell_type": "markdown",
      "metadata": {
        "id": "ogsXUCpEIvu5"
      },
      "source": [
        "# Modeling\n",
        "The goal of this is to showcase your experimentation and model comparison process.  \n",
        "The performance of models is not as important as how you compare them and evaluate them against each other.  \n",
        "\n",
        "Use whatever libraries you are comfortable with.   \n",
        "Code clarity and cleanliness are also highly valuable.   \n",
        "# Apply Different regression model \n",
        "# Apply two classffier Model for the data of classfication ( as per your choice)"
      ],
      "id": "ogsXUCpEIvu5"
    },
    {
      "cell_type": "markdown",
      "metadata": {
        "id": "GHiSKC2WIvu5"
      },
      "source": [
        "### 1. Model the number of hours played for each customer. Show your experimentation with failed and successful models.\n",
        "### 2. Evaluate each experiment using appropriate metrics, cross validation, and plots. Show the predicted vs actual plot.\n",
        "### 3. Choose the best model for the data"
      ],
      "id": "GHiSKC2WIvu5"
    },
    {
      "cell_type": "code",
      "source": [
        "import pandas as pd\n",
        "from sklearn.ensemble import RandomForestRegressor\n",
        "from sklearn.model_selection import train_test_split\n",
        "from sklearn.metrics import mean_squared_error, r2_score\n",
        "from sklearn.model_selection import cross_val_predict, KFold\n",
        "from sklearn.metrics import mean_squared_error, r2_score"
      ],
      "metadata": {
        "id": "At6jaf9JCPp8"
      },
      "id": "At6jaf9JCPp8",
      "execution_count": 29,
      "outputs": []
    },
    {
      "cell_type": "code",
      "execution_count": 30,
      "metadata": {
        "id": "Y1nr0EQ1Ivu6"
      },
      "outputs": [],
      "source": [
        "import pandas as pd\n",
        "from sklearn.linear_model import LinearRegression\n",
        "from sklearn.model_selection import train_test_split\n",
        "from sklearn.metrics import mean_squared_error\n",
        "\n"
      ],
      "id": "Y1nr0EQ1Ivu6"
    },
    {
      "cell_type": "code",
      "source": [
        "df_person_data=df_person_data.dropna()\n",
        "\n",
        "\n",
        "#df_person_data=df_person_data.drop('person_id')\n",
        "print(df_person_data)\n",
        "X = df_person_data.drop(['person_id','n_hours_playing'], axis=1)  # Input features\n",
        "\n",
        "y = df_person_data['n_hours_playing']  # Target variable\n",
        "\n",
        "# Split the data into training and testing sets\n",
        "X_train, X_test, y_train, y_test = train_test_split(X, y, test_size=0.2, random_state=42)\n"
      ],
      "metadata": {
        "colab": {
          "base_uri": "https://localhost:8080/"
        },
        "id": "x1B0RVakIBQp",
        "outputId": "3b7ba1cf-e6d2-4e4c-fe89-1dd67d9d6656"
      },
      "id": "x1B0RVakIBQp",
      "execution_count": 31,
      "outputs": [
        {
          "output_type": "stream",
          "name": "stdout",
          "text": [
            "                                  person_id   age  n_kids  n_vg  n_con  \\\n",
            "0      50c4c7e2-89a6-440b-a8e3-c44aa2c6150e  14.0       0     0      0   \n",
            "1      16f3bafb-9556-434e-adab-cb02f41fe32a  18.0       0     2      0   \n",
            "2      0fa17eee-7214-4609-97fe-dd3093601800  28.0       0     3      0   \n",
            "3      8db4ca66-dfb2-43f2-9c22-aa861dd0d218  20.0       1    72      0   \n",
            "4      51fed64a-375e-417f-94e4-4d27c368ea44  32.0       1    58      1   \n",
            "...                                     ...   ...     ...   ...    ...   \n",
            "69995  8cbea1e2-3257-4db5-ae59-84faa48cfde2  32.0       4    62      1   \n",
            "69996  e099ace5-a760-4362-a9ea-ae8cee590b86  36.0       0    53      1   \n",
            "69997  e9b0604e-ec84-4704-8e75-eabfd59ac4fb  19.0       0     1      1   \n",
            "69998  e20f8ec5-0ddf-4674-ac1f-d6280b6640ab  31.0       2    49      3   \n",
            "69999  4d86ea85-2eaf-457a-bdba-73ff21830588  20.0       0     3      0   \n",
            "\n",
            "       n_presub  n_hours_playing  \n",
            "0             0        18.422745  \n",
            "1             0        20.693273  \n",
            "2             0        22.412490  \n",
            "3             0       299.187025  \n",
            "4             3        20.367141  \n",
            "...         ...              ...  \n",
            "69995         2        21.378288  \n",
            "69996         1         3.707476  \n",
            "69997         0        23.809075  \n",
            "69998         2        15.708397  \n",
            "69999         2        30.796314  \n",
            "\n",
            "[69990 rows x 7 columns]\n"
          ]
        }
      ]
    },
    {
      "cell_type": "code",
      "source": [
        "# Create a linear regression model\n",
        "linear_reg = LinearRegression()\n",
        "\n",
        "linear_reg.fit(X_train, y_train)\n",
        "\n",
        "# Predict on the test set\n",
        "y_pred = linear_reg.predict(X_test)\n",
        "kf = KFold(n_splits=5, random_state=42, shuffle=True)\n",
        "y_pred_cv = cross_val_predict(linear_reg, X, y, cv=kf)\n",
        "# Evaluate the model\n",
        "mse = mean_squared_error(y_test, y_pred)\n",
        "print('Mean Squared Error:', mse)\n",
        "plt.scatter(y, y_pred_cv, alpha=0.5)\n",
        "plt.plot(np.linspace(0, max(y), 100), np.linspace(0, max(y), 100), color='black')\n",
        "plt.xlabel('Actual Value')\n",
        "plt.ylabel('Predicted Value')\n",
        "plt.title('Predicted Value vs. Actual Value')\n",
        "plt.show()"
      ],
      "metadata": {
        "colab": {
          "base_uri": "https://localhost:8080/",
          "height": 489
        },
        "id": "u0qy8XvhIBUp",
        "outputId": "66296858-57c3-4ca5-da29-a013d3074aa4"
      },
      "id": "u0qy8XvhIBUp",
      "execution_count": 32,
      "outputs": [
        {
          "output_type": "stream",
          "name": "stdout",
          "text": [
            "Mean Squared Error: 3408.7435979308802\n"
          ]
        },
        {
          "output_type": "display_data",
          "data": {
            "text/plain": [
              "<Figure size 640x480 with 1 Axes>"
            ],
            "image/png": "[encoded data removed]"
          },
          "metadata": {}
        }
      ]
    },
    {
      "cell_type": "code",
      "source": [
        "df=df_person_data.dropna()\n",
        "\n",
        "\n",
        "df=df_person_data.drop('person_id',axis=1)\n",
        "print(df_person_data)\n",
        "X = df.drop('n_hours_playing', axis=1)  # Input features\n",
        "\n",
        "y = df['n_hours_playing']  # Target variable\n",
        "\n",
        "X_train, X_test, y_train, y_test = train_test_split(X, y, test_size=0.2, random_state=42)\n",
        "\n"
      ],
      "metadata": {
        "colab": {
          "base_uri": "https://localhost:8080/"
        },
        "id": "yWsOeprOByTH",
        "outputId": "d0605701-cee5-4969-e4cb-087904d9d2ae"
      },
      "id": "yWsOeprOByTH",
      "execution_count": 33,
      "outputs": [
        {
          "output_type": "stream",
          "name": "stdout",
          "text": [
            "                                  person_id   age  n_kids  n_vg  n_con  \\\n",
            "0      50c4c7e2-89a6-440b-a8e3-c44aa2c6150e  14.0       0     0      0   \n",
            "1      16f3bafb-9556-434e-adab-cb02f41fe32a  18.0       0     2      0   \n",
            "2      0fa17eee-7214-4609-97fe-dd3093601800  28.0       0     3      0   \n",
            "3      8db4ca66-dfb2-43f2-9c22-aa861dd0d218  20.0       1    72      0   \n",
            "4      51fed64a-375e-417f-94e4-4d27c368ea44  32.0       1    58      1   \n",
            "...                                     ...   ...     ...   ...    ...   \n",
            "69995  8cbea1e2-3257-4db5-ae59-84faa48cfde2  32.0       4    62      1   \n",
            "69996  e099ace5-a760-4362-a9ea-ae8cee590b86  36.0       0    53      1   \n",
            "69997  e9b0604e-ec84-4704-8e75-eabfd59ac4fb  19.0       0     1      1   \n",
            "69998  e20f8ec5-0ddf-4674-ac1f-d6280b6640ab  31.0       2    49      3   \n",
            "69999  4d86ea85-2eaf-457a-bdba-73ff21830588  20.0       0     3      0   \n",
            "\n",
            "       n_presub  n_hours_playing  \n",
            "0             0        18.422745  \n",
            "1             0        20.693273  \n",
            "2             0        22.412490  \n",
            "3             0       299.187025  \n",
            "4             3        20.367141  \n",
            "...         ...              ...  \n",
            "69995         2        21.378288  \n",
            "69996         1         3.707476  \n",
            "69997         0        23.809075  \n",
            "69998         2        15.708397  \n",
            "69999         2        30.796314  \n",
            "\n",
            "[69990 rows x 7 columns]\n"
          ]
        }
      ]
    },
    {
      "cell_type": "code",
      "source": [
        "rf_reg = RandomForestRegressor()\n",
        "rf_reg.fit(X_train, y_train)\n",
        "\n",
        "# Predict on the test set\n",
        "y_pred = rf_reg.predict(X_test)\n",
        "kf = KFold(n_splits=5, random_state=42, shuffle=True)\n",
        "y_pred_cv = cross_val_predict(rf_reg, X, y, cv=kf)\n",
        "\n",
        "# Calculate evaluation metrics\n",
        "mse = mean_squared_error(y, y_pred_cv)\n",
        "r2 = r2_score(y, y_pred_cv)\n",
        "\n",
        "print('Mean Squared Error:', mse)\n",
        "print('R2 Score:', r2)\n",
        "\n"
      ],
      "metadata": {
        "colab": {
          "base_uri": "https://localhost:8080/"
        },
        "id": "X8xJjDiSIPuG",
        "outputId": "bccd0510-8303-413d-ebfb-fd0739e51b94"
      },
      "id": "X8xJjDiSIPuG",
      "execution_count": 34,
      "outputs": [
        {
          "output_type": "stream",
          "name": "stdout",
          "text": [
            "Mean Squared Error: 616.713850146969\n",
            "R2 Score: 0.965482556354458\n"
          ]
        }
      ]
    },
    {
      "cell_type": "code",
      "source": [
        "# Plot predicted vs. actual\n",
        "plt.scatter(y, y_pred_cv, alpha=0.5)\n",
        "plt.plot(np.linspace(0, max(y), 100), np.linspace(0, max(y), 100), color='black')\n",
        "plt.xlabel('Actual Value')\n",
        "plt.ylabel('Predicted Value')\n",
        "plt.title('Predicted Values vs. Actual Values')\n",
        "plt.show()"
      ],
      "metadata": {
        "colab": {
          "base_uri": "https://localhost:8080/",
          "height": 472
        },
        "id": "rUk-2oiaIPzX",
        "outputId": "7de1231c-dce7-4dd2-c1f3-5a9e6de41063"
      },
      "id": "rUk-2oiaIPzX",
      "execution_count": 35,
      "outputs": [
        {
          "output_type": "display_data",
          "data": {
            "text/plain": [
              "<Figure size 640x480 with 1 Axes>"
            ],
            "image/png": "[encoded data removed]"
          },
          "metadata": {}
        }
      ]
    },
    {
      "cell_type": "code",
      "source": [
        "import pandas as pd\n",
        "import xgboost as xgb\n",
        "from sklearn.model_selection import train_test_split\n",
        "from sklearn.metrics import mean_squared_error, r2_score\n",
        "\n",
        "df=df_person_data.dropna()\n",
        "\n",
        "\n",
        "df=df_person_data.drop(['person_id'],axis=1)\n",
        "print(df_person_data)\n",
        "X = df.drop('n_hours_playing', axis=1)  # Input features\n",
        "\n",
        "y = df['n_hours_playing']  # Target variable\n",
        "\n",
        "X_train, X_test, y_train, y_test = train_test_split(X, y, test_size=0.2, random_state=42)\n",
        "\n"
      ],
      "metadata": {
        "colab": {
          "base_uri": "https://localhost:8080/"
        },
        "id": "Y-Qu0er5ByV2",
        "outputId": "3ed81d3b-9d13-4102-c6f9-5aa8a90e98d1"
      },
      "id": "Y-Qu0er5ByV2",
      "execution_count": 36,
      "outputs": [
        {
          "output_type": "stream",
          "name": "stdout",
          "text": [
            "                                  person_id   age  n_kids  n_vg  n_con  \\\n",
            "0      50c4c7e2-89a6-440b-a8e3-c44aa2c6150e  14.0       0     0      0   \n",
            "1      16f3bafb-9556-434e-adab-cb02f41fe32a  18.0       0     2      0   \n",
            "2      0fa17eee-7214-4609-97fe-dd3093601800  28.0       0     3      0   \n",
            "3      8db4ca66-dfb2-43f2-9c22-aa861dd0d218  20.0       1    72      0   \n",
            "4      51fed64a-375e-417f-94e4-4d27c368ea44  32.0       1    58      1   \n",
            "...                                     ...   ...     ...   ...    ...   \n",
            "69995  8cbea1e2-3257-4db5-ae59-84faa48cfde2  32.0       4    62      1   \n",
            "69996  e099ace5-a760-4362-a9ea-ae8cee590b86  36.0       0    53      1   \n",
            "69997  e9b0604e-ec84-4704-8e75-eabfd59ac4fb  19.0       0     1      1   \n",
            "69998  e20f8ec5-0ddf-4674-ac1f-d6280b6640ab  31.0       2    49      3   \n",
            "69999  4d86ea85-2eaf-457a-bdba-73ff21830588  20.0       0     3      0   \n",
            "\n",
            "       n_presub  n_hours_playing  \n",
            "0             0        18.422745  \n",
            "1             0        20.693273  \n",
            "2             0        22.412490  \n",
            "3             0       299.187025  \n",
            "4             3        20.367141  \n",
            "...         ...              ...  \n",
            "69995         2        21.378288  \n",
            "69996         1         3.707476  \n",
            "69997         0        23.809075  \n",
            "69998         2        15.708397  \n",
            "69999         2        30.796314  \n",
            "\n",
            "[69990 rows x 7 columns]\n"
          ]
        }
      ]
    },
    {
      "cell_type": "code",
      "source": [
        "# Create an XGBoost regression model\n",
        "xgb_reg = xgb.XGBRegressor()\n",
        "\n",
        "# Fit the model to the training data\n",
        "xgb_reg.fit(X_train, y_train)\n",
        "\n",
        "# Predict on the test set\n",
        "y_pred = xgb_reg.predict(X_test)\n",
        "\n",
        "# Calculate evaluation metrics\n",
        "mse = mean_squared_error(y_test, y_pred)\n",
        "r2 = r2_score(y_test, y_pred)\n",
        "\n",
        "print('Mean Squared Error:', mse)\n",
        "print('R2 Score:', r2)"
      ],
      "metadata": {
        "colab": {
          "base_uri": "https://localhost:8080/"
        },
        "id": "QcMO3h-UIadP",
        "outputId": "47c67cfb-a4ca-46ef-b26d-5eff73f96461"
      },
      "id": "QcMO3h-UIadP",
      "execution_count": 37,
      "outputs": [
        {
          "output_type": "stream",
          "name": "stdout",
          "text": [
            "Mean Squared Error: 527.0065590305944\n",
            "R2 Score: 0.9702097017364415\n"
          ]
        }
      ]
    },
    {
      "cell_type": "code",
      "source": [
        "import pandas as pd\n",
        "from sklearn.svm import SVR\n",
        "from sklearn.model_selection import train_test_split\n",
        "from sklearn.metrics import mean_squared_error, r2_score\n",
        "\n",
        "df=df_person_data.dropna()\n",
        "\n",
        "\n",
        "df=df_person_data.drop(['person_id'],axis=1)\n",
        "print(df_person_data)\n",
        "X = df.drop('n_hours_playing', axis=1)  # Input features\n",
        "\n",
        "y = df['n_hours_playing']  # Target variable\n",
        "\n",
        "X_train, X_test, y_train, y_test = train_test_split(X, y, test_size=0.2, random_state=42)\n",
        "\n",
        "\n"
      ],
      "metadata": {
        "colab": {
          "base_uri": "https://localhost:8080/"
        },
        "id": "MfhwmstaByYv",
        "outputId": "2dc1f441-85ec-4be3-f286-5287067f90bc"
      },
      "id": "MfhwmstaByYv",
      "execution_count": 38,
      "outputs": [
        {
          "output_type": "stream",
          "name": "stdout",
          "text": [
            "                                  person_id   age  n_kids  n_vg  n_con  \\\n",
            "0      50c4c7e2-89a6-440b-a8e3-c44aa2c6150e  14.0       0     0      0   \n",
            "1      16f3bafb-9556-434e-adab-cb02f41fe32a  18.0       0     2      0   \n",
            "2      0fa17eee-7214-4609-97fe-dd3093601800  28.0       0     3      0   \n",
            "3      8db4ca66-dfb2-43f2-9c22-aa861dd0d218  20.0       1    72      0   \n",
            "4      51fed64a-375e-417f-94e4-4d27c368ea44  32.0       1    58      1   \n",
            "...                                     ...   ...     ...   ...    ...   \n",
            "69995  8cbea1e2-3257-4db5-ae59-84faa48cfde2  32.0       4    62      1   \n",
            "69996  e099ace5-a760-4362-a9ea-ae8cee590b86  36.0       0    53      1   \n",
            "69997  e9b0604e-ec84-4704-8e75-eabfd59ac4fb  19.0       0     1      1   \n",
            "69998  e20f8ec5-0ddf-4674-ac1f-d6280b6640ab  31.0       2    49      3   \n",
            "69999  4d86ea85-2eaf-457a-bdba-73ff21830588  20.0       0     3      0   \n",
            "\n",
            "       n_presub  n_hours_playing  \n",
            "0             0        18.422745  \n",
            "1             0        20.693273  \n",
            "2             0        22.412490  \n",
            "3             0       299.187025  \n",
            "4             3        20.367141  \n",
            "...         ...              ...  \n",
            "69995         2        21.378288  \n",
            "69996         1         3.707476  \n",
            "69997         0        23.809075  \n",
            "69998         2        15.708397  \n",
            "69999         2        30.796314  \n",
            "\n",
            "[69990 rows x 7 columns]\n"
          ]
        }
      ]
    },
    {
      "cell_type": "code",
      "source": [
        "# Split the data into training and testing sets\n",
        "X_train, X_test, y_train, y_test = train_test_split(X, y, test_size=0.2, random_state=42)\n",
        "\n",
        "# Create an SVR model\n",
        "svr = SVR()\n",
        "\n",
        "# Fit the model to the training data\n",
        "svr.fit(X_train, y_train)\n",
        "\n",
        "# Predict on the test set\n",
        "y_pred = svr.predict(X_test)\n",
        "\n",
        "# Calculate evaluation metrics\n",
        "mse = mean_squared_error(y_test, y_pred)\n",
        "r2 = r2_score(y_test, y_pred)\n",
        "\n",
        "print('Mean Squared Error:', mse)\n",
        "print('R2 Score:', r2)"
      ],
      "metadata": {
        "id": "xEXhgS-QMUAL"
      },
      "id": "xEXhgS-QMUAL",
      "execution_count": null,
      "outputs": []
    }
  ],
  "metadata": {
    "kernelspec": {
      "display_name": "Python 3",
      "language": "python",
      "name": "python3"
    },
    "language_info": {
      "codemirror_mode": {
        "name": "ipython",
        "version": 3
      },
      "file_extension": ".py",
      "mimetype": "text/x-python",
      "name": "python",
      "nbconvert_exporter": "python",
      "pygments_lexer": "ipython3",
      "version": "3.8.5"
    },
    "colab": {
      "provenance": []
    }
  },
  "nbformat": 4,
  "nbformat_minor": 5
}